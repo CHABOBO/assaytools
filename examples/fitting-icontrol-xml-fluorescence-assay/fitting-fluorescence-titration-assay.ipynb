{
 "metadata": {
  "name": "",
  "signature": "sha256:91a90dd43a7d6581ac79dca04ab6539960a19b491a23af8c4587370d8ae94820"
 },
 "nbformat": 3,
 "nbformat_minor": 0,
 "worksheets": [
  {
   "cells": [
    {
     "cell_type": "markdown",
     "metadata": {},
     "source": [
      "# Fluorescence assay prepared with a Tecan HP D300 digital dispenser"
     ]
    },
    {
     "cell_type": "markdown",
     "metadata": {},
     "source": [
      "A summary of the experimental procedure goes here"
     ]
    },
    {
     "cell_type": "code",
     "collapsed": false,
     "input": [
      "%matplotlib inline"
     ],
     "language": "python",
     "metadata": {},
     "outputs": [],
     "prompt_number": 1
    },
    {
     "cell_type": "code",
     "collapsed": false,
     "input": [
      "import re\n",
      "import pymc\n",
      "import numpy as np\n",
      "import matplotlib as mpl\n",
      "import matplotlib.pyplot as plt\n",
      "import seaborn as sns"
     ],
     "language": "python",
     "metadata": {},
     "outputs": [],
     "prompt_number": 2
    },
    {
     "cell_type": "code",
     "collapsed": false,
     "input": [
      "# Load data from Tecan iControl XML file.\n",
      "from assaytools import platereader\n",
      "\n",
      "row_names = ['A - Src','B - Buffer','C - Src','D - Buffer', 'E - Src','F - Buffer','G - Src','H - Buffer'] # row info\n",
      "\n",
      "filename = '2015-01-20 18-12-08_plate_1.xml' # Src:BOS data (rows A and B)\n",
      "#filename = \"2015-01-20 18-14-25_plate_1.xml\" # Src:BSI data (rows G and H)\n",
      "\n",
      "sections = platereader.read_icontrol_xml(filename)"
     ],
     "language": "python",
     "metadata": {},
     "outputs": [],
     "prompt_number": 3
    },
    {
     "cell_type": "code",
     "collapsed": false,
     "input": [
      "# Work with top fluorescence read.\n",
      "TopRead = sections['TopRead']\n",
      "\n",
      "# Extract observed fluorescence signals\n",
      "Fobs_i = TopRead['rows']['A'] # protein : ligand\n",
      "Fligand_i = TopRead['rows']['B'] # protein\n",
      "\n",
      "# Stated concentrations of protein and ligand.\n",
      "Pstated = 0.5e-6 * np.ones([12],np.float64) # protein concentration, M\n",
      "#Lstated = 20.0e-6 / np.array([10**(float(i)/2.0) for i in range(12)]) # ligand concentration, M\n",
      "#Lstated = np.array([20.0e-6,9.15e-6,4.18e-6,1.91e-6,0.875e-6,0.4e-6,0.183e-6,0.0837e-6,0.0383e-6,0.0175e-6,0.008e-6,0], np.float64)\n",
      "# Protein concentration (M) (from Sonya)\n",
      "Lstated = np.array([20.0e-6,9.15e-6,4.18e-6,1.91e-6,0.875e-6,0.4e-6,0.183e-6,0.0837e-6,0.0383e-6,0.0175e-6,0.008e-6,0.001e-6], np.float64)\n",
      "# Protein concentration (M) (modified form from Sonya, replacing 0 with 0.001e-6 because we can't handle zero concentrations yet)"
     ],
     "language": "python",
     "metadata": {},
     "outputs": [],
     "prompt_number": 4
    },
    {
     "cell_type": "code",
     "collapsed": false,
     "input": [
      "# Plot fluorescence intensity vs ligand concentration.\n",
      "fig2 = plt.figure(figsize=(10,5))\n",
      "plt.rcParams['figure.figsize'] = [10, 5];\n",
      "plt.clf();\n",
      "plt.semilogx(Lstated, Fobs_i, 'ko');\n",
      "plt.hold(True)\n",
      "plt.semilogx(Lstated, Fligand_i, 'ro');\n",
      "plt.xlabel('$[L]_T$ (M)');\n",
      "plt.ylabel('rel. fluorescence');"
     ],
     "language": "python",
     "metadata": {},
     "outputs": [
      {
       "metadata": {},
       "output_type": "display_data",
       "png": "[encoded data removed]",
       "text": [
        "<matplotlib.figure.Figure at 0x10ac85b10>"
       ]
      }
     ],
     "prompt_number": 5
    },
    {
     "cell_type": "code",
     "collapsed": false,
     "input": [
      "# Plot fluorescence intensity vs ligand concentration on a log plot to see if we are running into inner filter effects.\n",
      "fig2 = plt.figure(figsize=(10,5))\n",
      "plt.rcParams['figure.figsize'] = [10, 5];\n",
      "plt.clf();\n",
      "plt.loglog(Lstated, Fligand_i, 'ro');\n",
      "plt.xlabel('$[L]_T$ (M)');\n",
      "plt.ylabel('rel. fluorescence');"
     ],
     "language": "python",
     "metadata": {},
     "outputs": [
      {
       "metadata": {},
       "output_type": "display_data",
       "png": "[encoded data removed]",
       "text": [
        "<matplotlib.figure.Figure at 0x10ac85d10>"
       ]
      }
     ],
     "prompt_number": 6
    },
    {
     "cell_type": "code",
     "collapsed": false,
     "input": [
      "# Assay configuration details\n",
      "assay_volume = 100e-6 # assay volume, L\n",
      "well_area = 0.3969 # well area, cm^2 for 4ti-0223 [http://4ti.co.uk/files/1614/0542/7662/4ti-0223_Marketing_Drawing.pdf]\n",
      "\n",
      "# Uncertainties in protein and ligand concentrations.\n",
      "dPstated = 0.10 * Pstated # protein concentration uncertainty\n",
      "dLstated = 0.08 * Lstated # ligand concentraiton uncertainty (due to gravimetric preparation and HP D300 dispensing)"
     ],
     "language": "python",
     "metadata": {},
     "outputs": [],
     "prompt_number": 7
    },
    {
     "cell_type": "code",
     "collapsed": false,
     "input": [
      "# Create the pymc model\n",
      "from assaytools import pymcmodels\n",
      "pymc_model = pymcmodels.make_model(Pstated, dPstated, Lstated, dLstated, Fobs_i, Fligand_i,\n",
      "               use_primary_inner_filter_correction=True, assay_volume=assay_volume, well_area=well_area)"
     ],
     "language": "python",
     "metadata": {},
     "outputs": [],
     "prompt_number": 8
    },
    {
     "cell_type": "code",
     "collapsed": false,
     "input": [
      "# Find the maximum a posteriori fit (will only be local optimum, and several cycles are needed for reasonable fit)\n",
      "map = pymc.MAP(pymc_model)\n",
      "ncycles = 50\n",
      "for cycle in range(ncycles):\n",
      "    if (cycle+1)%5==0: print('MAP fitting cycle %d/%d' % (cycle+1, ncycles))\n",
      "    map.fit()"
     ],
     "language": "python",
     "metadata": {},
     "outputs": [
      {
       "output_type": "stream",
       "stream": "stdout",
       "text": [
        "MAP fitting cycle 5/50\n",
        "MAP fitting cycle 10/50"
       ]
      },
      {
       "output_type": "stream",
       "stream": "stdout",
       "text": [
        "\n",
        "MAP fitting cycle 15/50"
       ]
      },
      {
       "output_type": "stream",
       "stream": "stdout",
       "text": [
        "\n",
        "MAP fitting cycle 20/50"
       ]
      },
      {
       "output_type": "stream",
       "stream": "stdout",
       "text": [
        "\n",
        "MAP fitting cycle 25/50"
       ]
      },
      {
       "output_type": "stream",
       "stream": "stdout",
       "text": [
        "\n",
        "MAP fitting cycle 30/50"
       ]
      },
      {
       "output_type": "stream",
       "stream": "stdout",
       "text": [
        "\n",
        "MAP fitting cycle 35/50"
       ]
      },
      {
       "output_type": "stream",
       "stream": "stdout",
       "text": [
        "\n",
        "MAP fitting cycle 40/50"
       ]
      },
      {
       "output_type": "stream",
       "stream": "stdout",
       "text": [
        "\n",
        "MAP fitting cycle 45/50"
       ]
      },
      {
       "output_type": "stream",
       "stream": "stdout",
       "text": [
        "\n",
        "MAP fitting cycle 50/50"
       ]
      },
      {
       "output_type": "stream",
       "stream": "stdout",
       "text": [
        "\n"
       ]
      }
     ],
     "prompt_number": 9
    },
    {
     "cell_type": "code",
     "collapsed": false,
     "input": [],
     "language": "python",
     "metadata": {},
     "outputs": [],
     "prompt_number": 9
    },
    {
     "cell_type": "code",
     "collapsed": false,
     "input": [
      "# Plot MAP fit.\n",
      "# Note that this may be terrible if initial guess was poor.\n",
      "plt.rcParams['figure.figsize'] = [15, 3]\n",
      "figure = plt.gcf() # get current figure\n",
      "plt.clf();\n",
      "plt.hold(True)\n",
      "plt.semilogx(Lstated, map.Fmodel.value, 'k-')\n",
      "plt.semilogx(Lstated, Fobs_i, 'ko')\n",
      "plt.semilogx(Lstated, map.Fligand.value, 'r-')\n",
      "plt.semilogx(Lstated, Fligand_i, 'ro')\n",
      "plt.hold(False)\n",
      "plt.xlabel('$[L]_s$ (M)');\n",
      "plt.ylabel('fluorescence units');\n",
      "print map.DeltaG.value"
     ],
     "language": "python",
     "metadata": {},
     "outputs": [
      {
       "output_type": "stream",
       "stream": "stdout",
       "text": [
        "-33.4934862015\n"
       ]
      },
      {
       "metadata": {},
       "output_type": "display_data",
       "png": "[encoded data removed]",
       "text": [
        "<matplotlib.figure.Figure at 0x10b39fbd0>"
       ]
      }
     ]
    },
    {
     "cell_type": "code",
     "collapsed": false,
     "input": [
      "# Sample the model with pymc\n",
      "mcmc = pymc.MCMC(pymc_model, db='ram', name='Sampler', verbose=True)\n",
      "nthin = 10\n",
      "nburn = nthin*1000\n",
      "niter = nthin*1000\n",
      "mcmc.sample(iter=(nburn+niter), burn=nburn, thin=nthin, progress_bar=False, tune_throughout=False)"
     ],
     "language": "python",
     "metadata": {},
     "outputs": []
    },
    {
     "cell_type": "code",
     "collapsed": false,
     "input": [
      "# Determine how many samples we ended up with\n",
      "nsamples = mcmc.DeltaG.trace().size"
     ],
     "language": "python",
     "metadata": {},
     "outputs": []
    },
    {
     "cell_type": "code",
     "collapsed": false,
     "input": [
      "from assaytools.pymcmodels import DG_min, DG_max\n",
      "\n",
      "# Plot trace of DeltaG.\n",
      "plt.rcParams['figure.figsize'] = [15, 3]\n",
      "plt.plot(mcmc.DeltaG.trace(), 'o');\n",
      "plt.xlabel('MCMC sample');\n",
      "plt.ylabel('$\\Delta G$ ($k_B T$)');\n",
      "plt.axis([0, nsamples, DG_min, DG_max]);"
     ],
     "language": "python",
     "metadata": {},
     "outputs": []
    },
    {
     "cell_type": "code",
     "collapsed": false,
     "input": [
      "# Plot histogram of DeltaG.\n",
      "plt.rcParams['figure.figsize'] = [15, 3]\n",
      "nbins = 40\n",
      "[N,x,patches] = plt.hist(mcmc.DeltaG.trace(), nbins);\n",
      "plt.hist(mcmc.DeltaG.trace(), nbins);\n",
      "plt.xlabel('$\\Delta G$ ($k_B T$)');\n",
      "plt.ylabel('$P(\\Delta G)$');\n",
      "plt.axis([DG_min, DG_max, 0, N.max()]);\n",
      "plt.title('histogram of estimates for binding free energy');"
     ],
     "language": "python",
     "metadata": {},
     "outputs": []
    },
    {
     "cell_type": "code",
     "collapsed": false,
     "input": [
      "# Plot trace of true protein concentration.\n",
      "plt.rcParams['figure.figsize'] = [15, 3]\n",
      "plt.plot(mcmc.Ptrue.trace()*1e6, 'o');\n",
      "plt.xlabel('MCMC sample');\n",
      "plt.ylabel('$[P]$ ($\\mu$M)');\n",
      "plt.title('Trace of true protein concentrations');"
     ],
     "language": "python",
     "metadata": {},
     "outputs": []
    },
    {
     "cell_type": "code",
     "collapsed": false,
     "input": [
      "# Plot trace of true protein concentration.\n",
      "plt.rcParams['figure.figsize'] = [15, 3]\n",
      "X = mcmc.Ptrue.trace() * 1e6;\n",
      "plt.hist(X.reshape(X.size,1), 40);\n",
      "plt.xlabel('$[P]$ ($\\mu$M)');\n",
      "plt.ylabel('frequency');\n",
      "plt.title('Histogram of true protein concentrations');"
     ],
     "language": "python",
     "metadata": {},
     "outputs": []
    },
    {
     "cell_type": "code",
     "collapsed": false,
     "input": [
      "# Plot trace of true ligand concentration.\n",
      "plt.rcParams['figure.figsize'] = [15, 3]\n",
      "plt.semilogy(mcmc.Ltrue.trace()*1e6, 'o');\n",
      "plt.xlabel('MCMC sample');\n",
      "plt.ylabel('$[L]$ ($\\mu$M)');\n",
      "plt.title('Trace of true ligand concentrations in complex experiment');"
     ],
     "language": "python",
     "metadata": {},
     "outputs": []
    },
    {
     "cell_type": "code",
     "collapsed": false,
     "input": [
      "# Plot histograms of true ligand concentration.\n",
      "plt.rcParams['figure.figsize'] = [15, 3]\n",
      "X = np.log10(mcmc.Ltrue.trace())\n",
      "plt.clf();\n",
      "plt.hold(True);\n",
      "for i in range(X.shape[1]):\n",
      "    [N,x,patches] = plt.hist(X[:,i], histtype='stepfilled');\n",
      "    plt.hist(X[:,i], histtype='stepfilled');\n",
      "    plt.plot(np.log10(Lstated[i])*np.array([1,1]), [0, N.max()], 'k-', linewidth=3);\n",
      "plt.hold(False);\n",
      "plt.xlabel('$\\log_{10} ([L]/M)$');\n",
      "plt.ylabel('frequency');\n",
      "plt.title('Ligand true concentrations for complex experiment');"
     ],
     "language": "python",
     "metadata": {},
     "outputs": []
    },
    {
     "cell_type": "code",
     "collapsed": false,
     "input": [
      "# Plot histograms of true ligand concentration.\n",
      "plt.rcParams['figure.figsize'] = [15, 3]\n",
      "X = np.log10(mcmc.Ltrue_control.trace())\n",
      "plt.clf()\n",
      "plt.hold(True)\n",
      "for i in range(X.shape[1]):\n",
      "    [N,x,patches] = plt.hist(X[:,i], histtype='stepfilled');\n",
      "    plt.hist(X[:,i], histtype='stepfilled');\n",
      "    plt.plot(np.log10(Lstated[i])*np.array([1,1]), [0, N.max()], 'k-', linewidth=3);\n",
      "plt.hold(False)\n",
      "plt.xlabel('$\\log_{10} ([L]/M)$');\n",
      "plt.ylabel('frequency');\n",
      "plt.title('Ligand true concentrations for ligand-only experiment');"
     ],
     "language": "python",
     "metadata": {},
     "outputs": []
    },
    {
     "cell_type": "code",
     "collapsed": false,
     "input": [
      "# Plot trace of intrinsic fluorescence parameters.\n",
      "plt.rcParams['figure.figsize'] = [15, 3]\n",
      "plt.semilogy(mcmc.F_PL.trace(), 'o', mcmc.F_L.trace(), 'o', mcmc.F_P.trace(), 'o', mcmc.F_background.trace(), 'o');\n",
      "plt.legend(['complex fluorescence', 'ligand fluorescence', 'protein fluorescence', 'background fluorescence']);\n",
      "plt.xlabel('MCMC sample');\n",
      "plt.ylabel('relative fluorescence intensity');\n",
      "plt.title('trace of relative fluorescence intensities of various species');"
     ],
     "language": "python",
     "metadata": {},
     "outputs": []
    },
    {
     "cell_type": "code",
     "collapsed": false,
     "input": [
      "# Plot trace of intrinsic fluorescence parameters.\n",
      "plt.rcParams['figure.figsize'] = [15, 3]\n",
      "plt.clf();\n",
      "plt.hold(True);\n",
      "nbins = 40;\n",
      "print mcmc.F_PL.trace().shape\n",
      "plt.hist(np.log10(mcmc.F_PL.trace()), nbins, histtype='stepfilled');\n",
      "#plt.hist(np.log10(mcmc.F_L.trace()), nbins, histtype='stepfilled');\n",
      "#plt.hist(np.log10(mcmc.F_P.trace()), nbins, histtype='stepfilled');\n",
      "#plt.hist(np.log10(mcmc.F_background.trace()), nbins, histtype='stepfilled');\n",
      "plt.hold(False);\n",
      "plt.legend(['complex fluorescence', 'ligand fluorescence', 'protein fluorescence', 'background fluorescence']);\n",
      "plt.xlabel('relative fluorescence intensity $log_{10} F$ ');\n",
      "plt.ylabel('frequency');\n",
      "plt.title('histogram of relative fluorescence intensities of various species');"
     ],
     "language": "python",
     "metadata": {},
     "outputs": []
    },
    {
     "cell_type": "code",
     "collapsed": false,
     "input": [
      "# Plot model fit for protein:ligand titration fluorescence.\n",
      "plt.rcParams['figure.figsize'] = [15, 3]\n",
      "figure = plt.gcf() # get current figure\n",
      "Fmodels = mcmc.Fmodel.trace()\n",
      "plt.clf();\n",
      "plt.hold(True)\n",
      "for Fmodel in Fmodels:\n",
      "    plt.semilogx(Lstated, Fmodel, 'k-')\n",
      "plt.semilogx(Lstated, Fobs_i, 'ro')\n",
      "plt.hold(False)\n",
      "plt.xlabel('$[L]_s$ (M)');\n",
      "plt.ylabel('fluorescence units');"
     ],
     "language": "python",
     "metadata": {},
     "outputs": []
    },
    {
     "cell_type": "code",
     "collapsed": false,
     "input": [
      "# Plot model fit for ligand only titration fluorescence.\n",
      "plt.rcParams['figure.figsize'] = [15, 3]\n",
      "Fmodels = mcmc.Fligand.trace()\n",
      "plt.clf();\n",
      "plt.hold(True)\n",
      "for Fmodel in Fmodels:\n",
      "    plt.semilogx(Lstated, Fmodel, '-')\n",
      "plt.semilogx(Lstated, Fligand_i, 'ro')\n",
      "plt.hold(False)\n",
      "plt.xlabel('$[L]_s$ (M)');\n",
      "plt.ylabel('fluorescence units');"
     ],
     "language": "python",
     "metadata": {},
     "outputs": []
    },
    {
     "cell_type": "code",
     "collapsed": false,
     "input": [
      "# Plot trace of measurement error.\n",
      "plt.rcParams['figure.figsize'] = [15, 3]\n",
      "plt.semilogy(np.exp(mcmc.log_sigma.trace()), 'o');\n",
      "plt.xlabel('MCMC sample');\n",
      "plt.ylabel('fluorescence measurement error');"
     ],
     "language": "python",
     "metadata": {},
     "outputs": []
    },
    {
     "cell_type": "code",
     "collapsed": false,
     "input": [
      "# Plot extinction coefficient trace\n",
      "plt.rcParams['figure.figsize'] = [15, 3]\n",
      "plt.plot(mcmc.epsilon.trace() / 1e3, 'o');\n",
      "plt.xlabel('MCMC sample');\n",
      "plt.ylabel('ligand extinction coefficient $\\epsilon / 10^3$ (1/M/cm)');\n",
      "plt.title('trace of ligand extinction coefficient $\\epsilon$');"
     ],
     "language": "python",
     "metadata": {},
     "outputs": []
    },
    {
     "cell_type": "code",
     "collapsed": false,
     "input": [
      "# Plot extinction coefficient histogram\n",
      "plt.rcParams['figure.figsize'] = [15, 3]\n",
      "plt.hist(mcmc.epsilon.trace() / 1e3, nbins, histtype='stepfilled');\n",
      "plt.xlabel('ligand extinction coefficient $\\epsilon / 10^3$ (1/M/cm)');\n",
      "plt.ylabel('frequency');\n",
      "plt.title('histogram of ligand extinction coefficient $\\epsilon$');"
     ],
     "language": "python",
     "metadata": {},
     "outputs": []
    },
    {
     "cell_type": "code",
     "collapsed": false,
     "input": [
      "# Plot inner filter effect\n",
      "plt.rcParams['figure.figsize'] = [15, 3]\n",
      "plt.clf();\n",
      "plt.hold(True)\n",
      "path_length = assay_volume * 1000 / well_area # cm, needed for inner filter effect corrections     \n",
      "for (Ltrue, epsilon) in zip(mcmc.Ltrue.trace(), mcmc.epsilon.trace()):\n",
      "    IF = np.exp(-epsilon*path_length*Ltrue[:])\n",
      "    plt.semilogx(Lstated, IF, '-')\n",
      "plt.hold(False)\n",
      "plt.xlabel('stated $[L]_s$ (M)');\n",
      "plt.ylabel('inner filter effect');\n",
      "plt.axis([Lstated.min(), Lstated.max(), 0, 1]);"
     ],
     "language": "python",
     "metadata": {},
     "outputs": []
    },
    {
     "cell_type": "code",
     "collapsed": false,
     "input": [],
     "language": "python",
     "metadata": {},
     "outputs": []
    },
    {
     "cell_type": "code",
     "collapsed": false,
     "input": [],
     "language": "python",
     "metadata": {},
     "outputs": []
    },
    {
     "cell_type": "code",
     "collapsed": false,
     "input": [],
     "language": "python",
     "metadata": {},
     "outputs": []
    }
   ],
   "metadata": {}
  }
 ]
}