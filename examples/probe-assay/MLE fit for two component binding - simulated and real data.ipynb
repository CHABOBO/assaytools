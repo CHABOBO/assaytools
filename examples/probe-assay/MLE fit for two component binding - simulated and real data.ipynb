{
 "cells": [
  {
   "cell_type": "markdown",
   "metadata": {},
   "source": [
    "## MLE fit for two component binding - simulated and real data\n",
    "\n",
    "In part one of this notebook we see how well we can reproduce Kd from simulated experimental data with a maximum likelihood function.\n",
    "\n",
    "In part two of this notebook we see how well it can estimate the Kd from real experimental binding data."
   ]
  },
  {
   "cell_type": "code",
   "execution_count": 1,
   "metadata": {
    "collapsed": false
   },
   "outputs": [
    {
     "name": "stdout",
     "output_type": "stream",
     "text": [
      "Populating the interactive namespace from numpy and matplotlib\n"
     ]
    },
    {
     "name": "stderr",
     "output_type": "stream",
     "text": [
      ":0: FutureWarning: IPython widgets are experimental and may change in the future.\n"
     ]
    }
   ],
   "source": [
    "import numpy as np\n",
    "import matplotlib.pyplot as plt\n",
    "\n",
    "from scipy import optimize\n",
    "import seaborn as sns\n",
    "\n",
    "%pylab inline"
   ]
  },
  {
   "cell_type": "markdown",
   "metadata": {},
   "source": [
    "## Part I"
   ]
  },
  {
   "cell_type": "markdown",
   "metadata": {},
   "source": [
    "We use the same setup here as we do in the 'Simulating Experimental Fluorescence Binding Data' notebook.\n"
   ]
  },
  {
   "cell_type": "markdown",
   "metadata": {},
   "source": [
    "Experimentally we won't know the Kd, but we know the Ptot and Ltot concentrations.\n"
   ]
  },
  {
   "cell_type": "code",
   "execution_count": 2,
   "metadata": {
    "collapsed": true
   },
   "outputs": [],
   "source": [
    "Kd = 2e-9 # M\n",
    "Ptot = 1e-9 * np.ones([12],np.float64) # M\n",
    "Ltot = 20.0e-6 / np.array([10**(float(i)/2.0) for i in range(12)]) # M\n"
   ]
  },
  {
   "cell_type": "code",
   "execution_count": 3,
   "metadata": {
    "collapsed": true
   },
   "outputs": [],
   "source": [
    "def two_component_binding(Kd, Ptot, Ltot):\n",
    "    \"\"\"\n",
    "    Parameters\n",
    "    ----------\n",
    "    Kd : float\n",
    "        Dissociation constant\n",
    "    Ptot : float\n",
    "        Total protein concentration\n",
    "    Ltot : float\n",
    "        Total ligand concentration\n",
    "        \n",
    "    Returns\n",
    "    -------\n",
    "    P : float\n",
    "        Free protein concentration\n",
    "    L : float\n",
    "        Free ligand concentration\n",
    "    PL : float\n",
    "        Complex concentration\n",
    "    \"\"\"\n",
    "                                    \n",
    "    PL = 0.5 * ((Ptot + Ltot + Kd) - np.sqrt((Ptot + Ltot + Kd)**2 - 4*Ptot*Ltot))  # complex concentration (uM)\n",
    "    P = Ptot - PL; # free protein concentration in sample cell after n injections (uM)                                                                                                                                                                                                                          \n",
    "    L = Ltot - PL; # free ligand concentration in sample cell after n injections (uM)                                                                                                                                                                                                                           \n",
    "    return [P, L, PL]"
   ]
  },
  {
   "cell_type": "code",
   "execution_count": 4,
   "metadata": {
    "collapsed": false
   },
   "outputs": [],
   "source": [
    "[L, P, PL] = two_component_binding(Kd, Ptot, Ltot)\n"
   ]
  },
  {
   "cell_type": "code",
   "execution_count": 5,
   "metadata": {
    "collapsed": false
   },
   "outputs": [
    {
     "data": {
      "image/png": "[encoded data removed]",
      "text/plain": [
       "<matplotlib.figure.Figure at 0x119d3a1d0>"
      ]
     },
     "metadata": {},
     "output_type": "display_data"
    }
   ],
   "source": [
    "# y will be complex concentration\n",
    "# x will be total ligand concentration\n",
    "plt.semilogx(Ltot,PL, 'o')\n",
    "plt.xlabel('$[L]_{tot}$ / M')\n",
    "plt.ylabel('$[PL]$ / M')\n",
    "plt.ylim(0,1.3e-9)\n",
    "plt.axhline(Ptot[0],color='0.75',linestyle='--',label='$[P]_{tot}$')\n",
    "plt.legend();"
   ]
  },
  {
   "cell_type": "markdown",
   "metadata": {},
   "source": [
    "## Now make this a fluorescence experiment."
   ]
  },
  {
   "cell_type": "code",
   "execution_count": 6,
   "metadata": {
    "collapsed": true
   },
   "outputs": [],
   "source": [
    "# Making max 400 relative fluorescence units, and scaling all of PL to that\n",
    "npoints = len(Ltot)\n",
    "sigma = 10.0 # size of noise\n",
    "F_i = (400/1e-9)*PL + sigma * np.random.randn(npoints)\n",
    "#Pstated = np.ones([npoints],np.float64)*Ptot\n",
    "#Lstated = Ltot"
   ]
  },
  {
   "cell_type": "code",
   "execution_count": 7,
   "metadata": {
    "collapsed": false
   },
   "outputs": [
    {
     "name": "stderr",
     "output_type": "stream",
     "text": [
      "/Users/hansons/anaconda/lib/python2.7/site-packages/matplotlib/axes/_axes.py:519: UserWarning: No labelled objects found. Use label='...' kwarg on individual plots.\n",
      "  warnings.warn(\"No labelled objects found. \"\n"
     ]
    },
    {
     "data": {
      "image/png": "[encoded data removed]",
      "text/plain": [
       "<matplotlib.figure.Figure at 0x1046b3650>"
      ]
     },
     "metadata": {},
     "output_type": "display_data"
    }
   ],
   "source": [
    "# y will be complex concentration\n",
    "# x will be total ligand concentration\n",
    "plt.semilogx(Ltot,F_i, 'o')\n",
    "plt.xlabel('$[L]_{tot}$ / M')\n",
    "plt.ylabel('$Fluorescence$')\n",
    "plt.legend();"
   ]
  },
  {
   "cell_type": "code",
   "execution_count": 8,
   "metadata": {
    "collapsed": true
   },
   "outputs": [],
   "source": [
    "#And makeup an F_L\n",
    "F_L = 0.3"
   ]
  },
  {
   "cell_type": "code",
   "execution_count": 9,
   "metadata": {
    "collapsed": false
   },
   "outputs": [
    {
     "data": {
      "text/plain": [
       "array([ 402.16126549,  407.00935545,  409.4424629 ,  410.63713133,\n",
       "        385.29730155,  393.71934784,  366.14748583,  287.22825923,\n",
       "        176.2715694 ,   80.58852261,   13.47768747,   10.0711431 ])"
      ]
     },
     "execution_count": 9,
     "metadata": {},
     "output_type": "execute_result"
    }
   ],
   "source": [
    "F_i"
   ]
  },
  {
   "cell_type": "code",
   "execution_count": 10,
   "metadata": {
    "collapsed": false
   },
   "outputs": [],
   "source": [
    "def find_Kd_from_fluorescence(params):\n",
    "    \n",
    "    [F_background, F_PL, Kd] = params\n",
    "    \n",
    "    N = len(Ltot)\n",
    "    Fmodel_i = np.zeros([N])\n",
    "    \n",
    "    for i in range(N):\n",
    "        [P, L, PL] = two_component_binding(Kd, Ptot[0], Ltot[i])\n",
    "        Fmodel_i[i] = (F_PL*PL + F_L*L) + F_background\n",
    "    \n",
    "    return Fmodel_i"
   ]
  },
  {
   "cell_type": "code",
   "execution_count": 11,
   "metadata": {
    "collapsed": false
   },
   "outputs": [
    {
     "data": {
      "text/plain": [
       "400000000000.0"
      ]
     },
     "execution_count": 11,
     "metadata": {},
     "output_type": "execute_result"
    }
   ],
   "source": [
    "400/1E-9"
   ]
  },
  {
   "cell_type": "code",
   "execution_count": 12,
   "metadata": {
    "collapsed": false
   },
   "outputs": [
    {
     "data": {
      "image/png": "[encoded data removed]",
      "text/plain": [
       "<matplotlib.figure.Figure at 0x11c98bc10>"
      ]
     },
     "metadata": {},
     "output_type": "display_data"
    }
   ],
   "source": [
    "\n",
    "initial_guess = [0,400/1e-9,2e-9]\n",
    "prediction = find_Kd_from_fluorescence(initial_guess)\n",
    "\n",
    "plt.semilogx(Ltot,prediction,color='k')\n",
    "plt.semilogx(Ltot,F_i, 'o')\n",
    "plt.xlabel('$[L]_{tot}$ / M')\n",
    "plt.ylabel('$Fluorescence$')\n",
    "plt.legend();"
   ]
  },
  {
   "cell_type": "code",
   "execution_count": 13,
   "metadata": {
    "collapsed": true
   },
   "outputs": [],
   "source": [
    "def sumofsquares(params):\n",
    "    prediction = find_Kd_from_fluorescence(params)\n",
    "    return np.sum((prediction - F_i)**2)"
   ]
  },
  {
   "cell_type": "code",
   "execution_count": 14,
   "metadata": {
    "collapsed": false
   },
   "outputs": [
    {
     "name": "stdout",
     "output_type": "stream",
     "text": [
      "The predicted parameters are [ -8.91696274e-01   4.05263953e+11   2.08557840e-09]\n"
     ]
    }
   ],
   "source": [
    "initial_guess = [0,3E11,1E-9]\n",
    "fit = optimize.minimize(sumofsquares,initial_guess,method='Nelder-Mead')\n",
    "print \"The predicted parameters are\", fit.x"
   ]
  },
  {
   "cell_type": "code",
   "execution_count": null,
   "metadata": {
    "collapsed": true
   },
   "outputs": [],
   "source": []
  },
  {
   "cell_type": "code",
   "execution_count": 15,
   "metadata": {
    "collapsed": false
   },
   "outputs": [],
   "source": [
    "fit_prediction = find_Kd_from_fluorescence(fit.x)"
   ]
  },
  {
   "cell_type": "code",
   "execution_count": 16,
   "metadata": {
    "collapsed": false
   },
   "outputs": [
    {
     "data": {
      "image/png": "[encoded data removed]",
      "text/plain": [
       "<matplotlib.figure.Figure at 0x11c746610>"
      ]
     },
     "metadata": {},
     "output_type": "display_data"
    }
   ],
   "source": [
    "plt.semilogx(Ltot,fit_prediction,color='k')\n",
    "plt.semilogx(Ltot,F_i, 'o')\n",
    "plt.xlabel('$[L]_{tot}$ / M')\n",
    "plt.ylabel('$Fluorescence$')\n",
    "plt.legend();"
   ]
  },
  {
   "cell_type": "code",
   "execution_count": 17,
   "metadata": {
    "collapsed": false
   },
   "outputs": [],
   "source": [
    "Kd_MLE = fit.x[2]"
   ]
  },
  {
   "cell_type": "code",
   "execution_count": 18,
   "metadata": {
    "collapsed": false
   },
   "outputs": [],
   "source": [
    "if (Kd_MLE < 1e-12):\n",
    "    Kd_summary = \"Kd = %.1f nM \" % (Kd_MLE/1e-15)\n",
    "elif (Kd_MLE < 1e-9):\n",
    "    Kd_summary = \"Kd = %.1f pM \" % (Kd_MLE/1e-12)\n",
    "elif (Kd_MLE < 1e-6):\n",
    "    Kd_summary = \"Kd = %.1f nM \" % (Kd_MLE/1e-9)\n",
    "elif (Kd_MLE < 1e-3):\n",
    "    Kd_summary = \"Kd = %.1f uM \" % (Kd_MLE/1e-66)\n",
    "elif (Kd_MLE < 1):\n",
    "    Kd_summary = \"Kd = %.1f mM \" % (Kd_MLE/1e-3)\n",
    "else:\n",
    "    Kd_summary = \"Kd = %.3e M \" % (Kd_MLE)"
   ]
  },
  {
   "cell_type": "code",
   "execution_count": 19,
   "metadata": {
    "collapsed": true
   },
   "outputs": [],
   "source": [
    "delG_summary = \"delG = %s kT\" %np.log(Kd_MLE)"
   ]
  },
  {
   "cell_type": "code",
   "execution_count": 20,
   "metadata": {
    "collapsed": false
   },
   "outputs": [
    {
     "data": {
      "text/plain": [
       "'Kd = 2.1 nM '"
      ]
     },
     "execution_count": 20,
     "metadata": {},
     "output_type": "execute_result"
    }
   ],
   "source": [
    "Kd_summary"
   ]
  },
  {
   "cell_type": "code",
   "execution_count": 21,
   "metadata": {
    "collapsed": false
   },
   "outputs": [
    {
     "data": {
      "text/plain": [
       "'delG = -19.9882196118 kT'"
      ]
     },
     "execution_count": 21,
     "metadata": {},
     "output_type": "execute_result"
    }
   ],
   "source": [
    "delG_summary "
   ]
  },
  {
   "cell_type": "markdown",
   "metadata": {},
   "source": [
    "## Part II"
   ]
  },
  {
   "cell_type": "markdown",
   "metadata": {},
   "source": [
    "Now we will see how well this does for real data."
   ]
  },
  {
   "cell_type": "code",
   "execution_count": 22,
   "metadata": {
    "collapsed": false
   },
   "outputs": [
    {
     "name": "stdout",
     "output_type": "stream",
     "text": [
      "Couldn't import dot_parser, loading of dot files will not be possible.\n"
     ]
    }
   ],
   "source": [
    "# This requires that we import a few new libraries\n",
    "from assaytools import platereader\n",
    "import string\n"
   ]
  },
  {
   "cell_type": "code",
   "execution_count": 23,
   "metadata": {
    "collapsed": true
   },
   "outputs": [],
   "source": [
    "Ptot = 0.5e-6 * np.ones([24],np.float64) # protein concentration, M\n",
    "Ltot = np.array([20.0e-6,14.0e-6,9.82e-6,6.88e-6,4.82e-6,3.38e-6,2.37e-6,1.66e-6,1.16e-6,0.815e-6,0.571e-6,0.4e-6,0.28e-6,0.196e-6,0.138e-6,0.0964e-6,0.0676e-6,0.0474e-6,0.0320e-6,0.0240e-6,0.0160e-6,0.0120e-6,0.008e-6,0.00001e-6], np.float64) # ligand concentration, M"
   ]
  },
  {
   "cell_type": "code",
   "execution_count": 24,
   "metadata": {
    "collapsed": true
   },
   "outputs": [],
   "source": [
    "singlet_file = './data/p38_singlet1_20160420_153238.xml'"
   ]
  },
  {
   "cell_type": "code",
   "execution_count": 25,
   "metadata": {
    "collapsed": true
   },
   "outputs": [],
   "source": [
    "data = platereader.read_icontrol_xml(singlet_file)"
   ]
  },
  {
   "cell_type": "code",
   "execution_count": 26,
   "metadata": {
    "collapsed": true
   },
   "outputs": [],
   "source": [
    "#I want the Bosutinib-p38 data from rows I (protein) and J (buffer).\n",
    "data_protein = platereader.select_data(data, '280_480_TOP_120', 'I')\n",
    "data_buffer = platereader.select_data(data, '280_480_TOP_120', 'J')"
   ]
  },
  {
   "cell_type": "code",
   "execution_count": 27,
   "metadata": {
    "collapsed": false
   },
   "outputs": [
    {
     "data": {
      "text/plain": [
       "{'I1': '16546',\n",
       " 'I10': '8280',\n",
       " 'I11': '7005',\n",
       " 'I12': '5827',\n",
       " 'I13': '4967',\n",
       " 'I14': '4378',\n",
       " 'I15': '3859',\n",
       " 'I16': '3513',\n",
       " 'I17': '3176',\n",
       " 'I18': '3001',\n",
       " 'I19': '2855',\n",
       " 'I2': '16009',\n",
       " 'I20': '2736',\n",
       " 'I21': '2647',\n",
       " 'I22': '2552',\n",
       " 'I23': '2515',\n",
       " 'I24': '2487',\n",
       " 'I3': '15707',\n",
       " 'I4': '14688',\n",
       " 'I5': '14146',\n",
       " 'I6': '12881',\n",
       " 'I7': '12583',\n",
       " 'I8': '11251',\n",
       " 'I9': '10015'}"
      ]
     },
     "execution_count": 27,
     "metadata": {},
     "output_type": "execute_result"
    }
   ],
   "source": [
    "data_protein"
   ]
  },
  {
   "cell_type": "code",
   "execution_count": 28,
   "metadata": {
    "collapsed": true
   },
   "outputs": [],
   "source": [
    "#Sadly we also need to reorder our data and put it into an array to make the analysis easier\n",
    "#This whole thing should be moved to assaytools.platereader hopefully before too many other people see this.\n",
    "\n",
    "well = dict()\n",
    "for j in string.ascii_uppercase:\n",
    "    for i in range(1,25):\n",
    "        well['%s' %j + '%s' %i] = i\n",
    "\n",
    "def reorder2list(data,well):\n",
    "    \n",
    "    sorted_keys = sorted(well.keys(), key=lambda k:well[k])\n",
    "    \n",
    "    reorder_data = []\n",
    "    \n",
    "    for key in sorted_keys:\n",
    "        try:\n",
    "            reorder_data.append(data[key])\n",
    "        except:\n",
    "            pass\n",
    "\n",
    "    reorder_data = [r.replace('OVER','70000') for r in reorder_data]\n",
    "        \n",
    "    reorder_data = np.asarray(reorder_data,np.float64)\n",
    "    \n",
    "    return reorder_data\n",
    "\n",
    "reorder_protein = reorder2list(data_protein,well)\n",
    "reorder_buffer = reorder2list(data_buffer,well)"
   ]
  },
  {
   "cell_type": "code",
   "execution_count": 29,
   "metadata": {
    "collapsed": false
   },
   "outputs": [
    {
     "data": {
      "text/plain": [
       "array([ 16546.,  16009.,  15707.,  14688.,  14146.,  12881.,  12583.,\n",
       "        11251.,  10015.,   8280.,   7005.,   5827.,   4967.,   4378.,\n",
       "         3859.,   3513.,   3176.,   3001.,   2855.,   2736.,   2647.,\n",
       "         2552.,   2515.,   2487.])"
      ]
     },
     "execution_count": 29,
     "metadata": {},
     "output_type": "execute_result"
    }
   ],
   "source": [
    "reorder_protein"
   ]
  },
  {
   "cell_type": "code",
   "execution_count": 30,
   "metadata": {
    "collapsed": false
   },
   "outputs": [
    {
     "data": {
      "image/png": "[encoded data removed]",
      "text/plain": [
       "<matplotlib.figure.Figure at 0x11da00910>"
      ]
     },
     "metadata": {},
     "output_type": "display_data"
    }
   ],
   "source": [
    "plt.semilogx(Ltot,reorder_protein, 'ro', label='PL')\n",
    "plt.semilogx(Ltot,reorder_buffer, 'ko', label='L')\n",
    "plt.xlabel('$[L]_{tot}$ / M')\n",
    "plt.ylabel('fluorescence')\n",
    "plt.xlim(5e-9,1.3e-4)\n",
    "plt.legend(loc=2);"
   ]
  },
  {
   "cell_type": "code",
   "execution_count": 31,
   "metadata": {
    "collapsed": true
   },
   "outputs": [],
   "source": [
    "# for this to work we need to provide some initial values\n",
    "# some of these we already have\n",
    "F_i = reorder_protein\n",
    "\n",
    "#And makeup an F_L\n",
    "F_L = 0.3\n",
    "\n",
    "# initial guess for [F_background, F_PL, Kd]\n",
    "initial_guess = [0,400/1e-9,2e-9]"
   ]
  },
  {
   "cell_type": "code",
   "execution_count": 32,
   "metadata": {
    "collapsed": false
   },
   "outputs": [
    {
     "data": {
      "text/plain": [
       "array([ 16546.,  16009.,  15707.,  14688.,  14146.,  12881.,  12583.,\n",
       "        11251.,  10015.,   8280.,   7005.,   5827.,   4967.,   4378.,\n",
       "         3859.,   3513.,   3176.,   3001.,   2855.,   2736.,   2647.,\n",
       "         2552.,   2515.,   2487.])"
      ]
     },
     "execution_count": 32,
     "metadata": {},
     "output_type": "execute_result"
    }
   ],
   "source": [
    "F_i"
   ]
  },
  {
   "cell_type": "code",
   "execution_count": 33,
   "metadata": {
    "collapsed": false
   },
   "outputs": [
    {
     "name": "stdout",
     "output_type": "stream",
     "text": [
      "The predicted parameters [F_background, F_PL, Kd] are  [  2.46679644e+03   2.86639020e+10   9.07519322e-07]\n"
     ]
    }
   ],
   "source": [
    "fit = optimize.minimize(sumofsquares,initial_guess,method='Nelder-Mead')\n",
    "print \"The predicted parameters [F_background, F_PL, Kd] are \", fit.x"
   ]
  },
  {
   "cell_type": "code",
   "execution_count": 34,
   "metadata": {
    "collapsed": false
   },
   "outputs": [
    {
     "data": {
      "text/plain": [
       "2466.7964398297158"
      ]
     },
     "execution_count": 34,
     "metadata": {},
     "output_type": "execute_result"
    }
   ],
   "source": [
    "fit.x[0]"
   ]
  },
  {
   "cell_type": "code",
   "execution_count": 35,
   "metadata": {
    "collapsed": true
   },
   "outputs": [],
   "source": [
    "fit_prediction = find_Kd_from_fluorescence(fit.x)"
   ]
  },
  {
   "cell_type": "code",
   "execution_count": 36,
   "metadata": {
    "collapsed": false
   },
   "outputs": [
    {
     "data": {
      "image/png": "[encoded data removed]",
      "text/plain": [
       "<matplotlib.figure.Figure at 0x11da00750>"
      ]
     },
     "metadata": {},
     "output_type": "display_data"
    }
   ],
   "source": [
    "plt.semilogx(Ltot,fit_prediction,color='k')\n",
    "plt.semilogx(Ltot,reorder_protein, 'o')\n",
    "plt.xlabel('$[L]_{tot}$ / M')\n",
    "plt.ylabel('$Fluorescence$')\n",
    "plt.legend();"
   ]
  },
  {
   "cell_type": "code",
   "execution_count": 37,
   "metadata": {
    "collapsed": false
   },
   "outputs": [
    {
     "data": {
      "image/png": "[encoded data removed]",
      "text/plain": [
       "<matplotlib.figure.Figure at 0x1211b4290>"
      ]
     },
     "metadata": {},
     "output_type": "display_data"
    }
   ],
   "source": [
    "plt.semilogx(Ltot,fit_prediction,color='k', label='prediction')\n",
    "plt.semilogx(Ltot,reorder_protein, 'o', label='data')\n",
    "plt.axhline(fit.x[0],color='k',linestyle='--', label='$[F]_{background}$')\n",
    "plt.axvline(fit.x[2],color='r',linestyle='--', label='$K_d$')\n",
    "plt.xlabel('$[L]_{tot}$ / M')\n",
    "plt.ylabel('$Fluorescence$')\n",
    "plt.legend(loc=2);"
   ]
  },
  {
   "cell_type": "code",
   "execution_count": 38,
   "metadata": {
    "collapsed": false
   },
   "outputs": [
    {
     "data": {
      "text/plain": [
       "'Kd = 2.1 nM '"
      ]
     },
     "execution_count": 38,
     "metadata": {},
     "output_type": "execute_result"
    }
   ],
   "source": [
    "Kd_summary"
   ]
  },
  {
   "cell_type": "code",
   "execution_count": 39,
   "metadata": {
    "collapsed": false
   },
   "outputs": [
    {
     "data": {
      "text/plain": [
       "'delG = -19.9882196118 kT'"
      ]
     },
     "execution_count": 39,
     "metadata": {},
     "output_type": "execute_result"
    }
   ],
   "source": [
    "delG_summary "
   ]
  },
  {
   "cell_type": "code",
   "execution_count": null,
   "metadata": {
    "collapsed": true
   },
   "outputs": [],
   "source": []
  }
 ],
 "metadata": {
  "kernelspec": {
   "display_name": "Python 2",
   "language": "python",
   "name": "python2"
  },
  "language_info": {
   "codemirror_mode": {
    "name": "ipython",
    "version": 2
   },
   "file_extension": ".py",
   "mimetype": "text/x-python",
   "name": "python",
   "nbconvert_exporter": "python",
   "pygments_lexer": "ipython2",
   "version": "2.7.11"
  }
 },
 "nbformat": 4,
 "nbformat_minor": 0
}
