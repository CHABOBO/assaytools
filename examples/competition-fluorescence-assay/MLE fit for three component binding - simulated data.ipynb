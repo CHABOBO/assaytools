{
 "cells": [
  {
   "cell_type": "markdown",
   "metadata": {},
   "source": [
    "# MLE fit for three component binding - simulated data"
   ]
  },
  {
   "cell_type": "markdown",
   "metadata": {},
   "source": [
    "In this notebook we will see how well we can reproduce Kd of a non-fluorescent ligand from simulated experimental data with a maximum likelihood function."
   ]
  },
  {
   "cell_type": "code",
   "execution_count": 1,
   "metadata": {
    "collapsed": false
   },
   "outputs": [
    {
     "name": "stdout",
     "output_type": "stream",
     "text": [
      "Populating the interactive namespace from numpy and matplotlib\n"
     ]
    },
    {
     "name": "stderr",
     "output_type": "stream",
     "text": [
      ":0: FutureWarning: IPython widgets are experimental and may change in the future.\n"
     ]
    }
   ],
   "source": [
    "import numpy as np\n",
    "import matplotlib.pyplot as plt\n",
    "\n",
    "from scipy import optimize\n",
    "import seaborn as sns\n",
    "\n",
    "%pylab inline"
   ]
  },
  {
   "cell_type": "code",
   "execution_count": 2,
   "metadata": {
    "collapsed": false
   },
   "outputs": [],
   "source": [
    "#Competitive binding function\n",
    "def three_component_competitive_binding(Ptot, Ltot, Kd_L, Atot, Kd_A):\n",
    "    \"\"\"\n",
    "    Parameters\n",
    "    ----------\n",
    "    Ptot : float\n",
    "        Total protein concentration\n",
    "    Ltot : float\n",
    "        Total tracer(fluorescent) ligand concentration\n",
    "    Kd_L : float\n",
    "        Dissociation constant\n",
    "    Atot : float\n",
    "        Total competitive ligand concentration\n",
    "    Kd_A : float\n",
    "        Dissociation constant\n",
    "        \n",
    "    Returns\n",
    "    -------\n",
    "    P : float\n",
    "        Free protein concentration\n",
    "    L : float\n",
    "        Free ligand concentration\n",
    "    A : float\n",
    "        Free ligand concentration\n",
    "    PL : float\n",
    "        Complex concentration\n",
    "    Kd_L_app : float\n",
    "        Apparent dissociation constant of L in the presence of A\n",
    "        \n",
    "    Usage\n",
    "    -----\n",
    "    [P, L, A, PL, Kd_L_app] = three_component_competitive_binding(Ptot, Ltot, Kd_L, Atot, Kd_A)\n",
    "    \"\"\"\n",
    "    Kd_L_app = Kd_L*(1+Atot/Kd_A)                                \n",
    "    PL = 0.5 * ((Ptot + Ltot + Kd_L_app) - np.sqrt((Ptot + Ltot + Kd_L_app)**2 - 4*Ptot*Ltot))  # complex concentration (uM)\n",
    "    P = Ptot - PL; # free protein concentration in sample cell after n injections (uM)                                                                                                                                                                                                                          \n",
    "    L = Ltot - PL; # free tracer ligand concentration in sample cell after n injections (uM)\n",
    "    A = Atot - PL; # free competitive ligand concentration in sample cell after n injections (uM)\n",
    "    return [P, L, A, PL, Kd_L_app]"
   ]
  },
  {
   "cell_type": "code",
   "execution_count": 3,
   "metadata": {
    "collapsed": true
   },
   "outputs": [],
   "source": [
    "#Let's define our parameters\n",
    "Kd = 3800e-9 # M\n",
    "Kd_Competitor = 3000e-9 # M\n",
    "Ptot = 1e-9 * np.ones([12],np.float64) # M\n",
    "Ltot = 20.0e-6 / np.array([10**(float(i)/2.0) for i in range(12)]) # M\n",
    "L_Competitor =  10e-6 # M\n"
   ]
  },
  {
   "cell_type": "code",
   "execution_count": 4,
   "metadata": {
    "collapsed": false
   },
   "outputs": [],
   "source": [
    "[P, L, A, PL, Kd_L_app] = three_component_competitive_binding(Ptot, Ltot, Kd, L_Competitor, Kd_Competitor)\n",
    "[P_base, L_base, A_base, PL_base, Kd_L_app_base] = three_component_competitive_binding(Ptot, Ltot, Kd, 0, Kd_Competitor)"
   ]
  },
  {
   "cell_type": "code",
   "execution_count": 5,
   "metadata": {
    "collapsed": false
   },
   "outputs": [
    {
     "data": {
      "image/png": "[encoded data removed]",
      "text/plain": [
       "<matplotlib.figure.Figure at 0x119ec0b10>"
      ]
     },
     "metadata": {},
     "output_type": "display_data"
    }
   ],
   "source": [
    "# y will be complex concentration\n",
    "# x will be total ligand concentration\n",
    "plt.title('Competition assay')\n",
    "plt.semilogx(Ltot,PL_base,'green', marker='o', label = 'Fluorescent Ligand')\n",
    "plt.semilogx(Ltot,PL,'cyan', marker='o', label = 'Fluorescent Ligand + Competitor')\n",
    "plt.xlabel('$[L]_{tot}$')\n",
    "plt.ylabel('$[PL]$')\n",
    "plt.legend(loc=0);"
   ]
  },
  {
   "cell_type": "code",
   "execution_count": 6,
   "metadata": {
    "collapsed": true
   },
   "outputs": [],
   "source": [
    "#What if we change our Kd's a little\n",
    "Kd_Gef_Abl = 480e-9 # M\n",
    "Kd_Ima_Abl = 21.0e-9 # M"
   ]
  },
  {
   "cell_type": "code",
   "execution_count": 7,
   "metadata": {
    "collapsed": true
   },
   "outputs": [],
   "source": [
    "[P, L, A, PL, Kd_L_app] = three_component_competitive_binding(Ptot, Ltot, Kd_Gef_Abl, L_Competitor, Kd_Ima_Abl)\n",
    "[P_base, L_base, A_base, PL_base, Kd_L_app_base] = three_component_competitive_binding(Ptot, Ltot, Kd_Gef_Abl, 0, Kd_Ima_Abl)"
   ]
  },
  {
   "cell_type": "code",
   "execution_count": 8,
   "metadata": {
    "collapsed": false
   },
   "outputs": [
    {
     "data": {
      "image/png": "[encoded data removed]",
      "text/plain": [
       "<matplotlib.figure.Figure at 0x11c2aef10>"
      ]
     },
     "metadata": {},
     "output_type": "display_data"
    }
   ],
   "source": [
    "# y will be complex concentration\n",
    "# x will be total ligand concentration\n",
    "plt.title('Competition assay')\n",
    "plt.semilogx(Ltot,PL_base,'green', marker='o', label = 'Fluorescent Ligand')\n",
    "plt.semilogx(Ltot,PL,'cyan', marker='o', label = 'Fluorescent Ligand + Competitor')\n",
    "plt.xlabel('$[L]_{tot}$')\n",
    "plt.ylabel('$[PL]$')\n",
    "plt.legend(loc=0);"
   ]
  },
  {
   "cell_type": "markdown",
   "metadata": {},
   "source": [
    "## Now make this a fluorescence experiment.\n"
   ]
  },
  {
   "cell_type": "code",
   "execution_count": 9,
   "metadata": {
    "collapsed": true
   },
   "outputs": [],
   "source": [
    "# Making max 400 relative fluorescence units, and scaling all of PL to that\n",
    "npoints = len(Ltot)\n",
    "sigma = 10.0 # size of noise\n",
    "F_i = (400/1e-9)*PL + sigma * np.random.randn(npoints)\n",
    "F_i_base = (400/1e-9)*PL_base + sigma * np.random.randn(npoints)"
   ]
  },
  {
   "cell_type": "code",
   "execution_count": 10,
   "metadata": {
    "collapsed": false
   },
   "outputs": [
    {
     "data": {
      "image/png": "[encoded data removed]",
      "text/plain": [
       "<matplotlib.figure.Figure at 0x11d196a90>"
      ]
     },
     "metadata": {},
     "output_type": "display_data"
    }
   ],
   "source": [
    "# y will be complex concentration\n",
    "# x will be total ligand concentration\n",
    "plt.title('Competition assay')\n",
    "plt.semilogx(Ltot,F_i_base,'green', marker='o', label = 'Fluorescent Ligand')\n",
    "plt.semilogx(Ltot,F_i,'cyan', marker='o', label = 'Fluorescent Ligand + Competitor')\n",
    "plt.xlabel('$[L]_{tot}$')\n",
    "plt.ylabel('$Fluorescence$')\n",
    "plt.legend(loc=0);"
   ]
  },
  {
   "cell_type": "code",
   "execution_count": 11,
   "metadata": {
    "collapsed": true
   },
   "outputs": [],
   "source": [
    "#And makeup an F_L\n",
    "F_L = 0.3"
   ]
  },
  {
   "cell_type": "markdown",
   "metadata": {},
   "source": [
    "### First let's see if we can find Kd of our fluorescent ligand from the three component binding model, if we know there's no competitive ligand"
   ]
  },
  {
   "cell_type": "code",
   "execution_count": 15,
   "metadata": {
    "collapsed": true
   },
   "outputs": [],
   "source": [
    "def find_Kd_from_fluorescence(params):\n",
    "    \n",
    "    [F_background, F_PL, Kd] = params\n",
    "    \n",
    "    N = len(Ltot)\n",
    "    Fmodel_i = np.zeros([N])\n",
    "    \n",
    "    for i in range(N):\n",
    "        [P, L, A, PL, Kd_L_app] = three_component_competitive_binding(Ptot[0], Ltot[i], Kd_Gef_Abl, 0, Kd_Competitor)\n",
    "        Fmodel_i[i] = (F_PL*PL + F_L*L) + F_background\n",
    "    \n",
    "    return Fmodel_i"
   ]
  },
  {
   "cell_type": "code",
   "execution_count": 16,
   "metadata": {
    "collapsed": false
   },
   "outputs": [
    {
     "data": {
      "image/png": "[encoded data removed]",
      "text/plain": [
       "<matplotlib.figure.Figure at 0x11c2fe550>"
      ]
     },
     "metadata": {},
     "output_type": "display_data"
    }
   ],
   "source": [
    "initial_guess = [0,400/1e-9,3800e-9]\n",
    "prediction = find_Kd_from_fluorescence(initial_guess)\n",
    "\n",
    "plt.semilogx(Ltot,prediction,color='k')\n",
    "plt.semilogx(Ltot,F_i_base, 'o')\n",
    "plt.xlabel('$[L]_{tot}$ / M')\n",
    "plt.ylabel('$Fluorescence$')\n",
    "plt.legend();"
   ]
  },
  {
   "cell_type": "code",
   "execution_count": null,
   "metadata": {
    "collapsed": false
   },
   "outputs": [],
   "source": []
  },
  {
   "cell_type": "code",
   "execution_count": null,
   "metadata": {
    "collapsed": false
   },
   "outputs": [],
   "source": []
  },
  {
   "cell_type": "code",
   "execution_count": 40,
   "metadata": {
    "collapsed": true
   },
   "outputs": [],
   "source": [
    "def sumofsquares(params):\n",
    "    prediction = find_Kd_from_fluorescence(params)\n",
    "    return np.sum((prediction - F_i_base)**2)"
   ]
  },
  {
   "cell_type": "code",
   "execution_count": 41,
   "metadata": {
    "collapsed": false
   },
   "outputs": [
    {
     "name": "stdout",
     "output_type": "stream",
     "text": [
      "The predicted parameters are [  1.14577907e+00   3.93974194e+11  -3.51125598e-06]\n"
     ]
    }
   ],
   "source": [
    "initial_guess = [0,3E11,20E-9]\n",
    "fit = optimize.minimize(sumofsquares,initial_guess,method='Nelder-Mead')\n",
    "print \"The predicted parameters are\", fit.x"
   ]
  },
  {
   "cell_type": "code",
   "execution_count": 42,
   "metadata": {
    "collapsed": true
   },
   "outputs": [],
   "source": [
    "fit_prediction = find_Kd_from_fluorescence(fit.x)"
   ]
  },
  {
   "cell_type": "code",
   "execution_count": 43,
   "metadata": {
    "collapsed": false
   },
   "outputs": [
    {
     "data": {
      "image/png": "[encoded data removed]",
      "text/plain": [
       "<matplotlib.figure.Figure at 0x10d43a6d0>"
      ]
     },
     "metadata": {},
     "output_type": "display_data"
    }
   ],
   "source": [
    "plt.semilogx(Ltot,fit_prediction,color='k')\n",
    "plt.semilogx(Ltot,F_i_base, 'o')\n",
    "plt.xlabel('$[L]_{tot}$ / M')\n",
    "plt.ylabel('$Fluorescence$')\n",
    "plt.legend();"
   ]
  },
  {
   "cell_type": "code",
   "execution_count": 44,
   "metadata": {
    "collapsed": true
   },
   "outputs": [],
   "source": [
    "Kd_Gef_Abl_MLE = fit.x[2]"
   ]
  },
  {
   "cell_type": "code",
   "execution_count": 45,
   "metadata": {
    "collapsed": false
   },
   "outputs": [],
   "source": [
    "def Kd_format(Kd):\n",
    "    if (Kd < 1e-12):\n",
    "        Kd_summary = \"Kd = %.1f nM \" % (Kd/1e-15)\n",
    "    elif (Kd < 1e-9):\n",
    "        Kd_summary = \"Kd = %.1f pM \" % (Kd/1e-12)\n",
    "    elif (Kd < 1e-6):\n",
    "        Kd_summary = \"Kd = %.1f nM \" % (Kd/1e-9)\n",
    "    elif (Kd < 1e-3):\n",
    "        Kd_summary = \"Kd = %.1f uM \" % (Kd/1e-66)\n",
    "    elif (Kd < 1):\n",
    "        Kd_summary = \"Kd = %.1f mM \" % (Kd/1e-3)\n",
    "    else:\n",
    "        Kd_summary = \"Kd = %.3e M \" % (Kd)\n",
    "    \n",
    "    return Kd_summary"
   ]
  },
  {
   "cell_type": "code",
   "execution_count": 46,
   "metadata": {
    "collapsed": false
   },
   "outputs": [
    {
     "data": {
      "text/plain": [
       "'Kd = -3511255978.6 nM '"
      ]
     },
     "execution_count": 46,
     "metadata": {},
     "output_type": "execute_result"
    }
   ],
   "source": [
    "Kd_format(Kd_Gef_Abl_MLE)"
   ]
  },
  {
   "cell_type": "code",
   "execution_count": 47,
   "metadata": {
    "collapsed": true
   },
   "outputs": [],
   "source": [
    "delG_summary = \"delG = %s kT\" %np.log(Kd_Gef_Abl_MLE)"
   ]
  },
  {
   "cell_type": "code",
   "execution_count": 48,
   "metadata": {
    "collapsed": false
   },
   "outputs": [
    {
     "data": {
      "text/plain": [
       "'delG = nan kT'"
      ]
     },
     "execution_count": 48,
     "metadata": {},
     "output_type": "execute_result"
    }
   ],
   "source": [
    "delG_summary"
   ]
  },
  {
   "cell_type": "code",
   "execution_count": null,
   "metadata": {
    "collapsed": true
   },
   "outputs": [],
   "source": []
  }
 ],
 "metadata": {
  "kernelspec": {
   "display_name": "Python 2",
   "language": "python",
   "name": "python2"
  },
  "language_info": {
   "codemirror_mode": {
    "name": "ipython",
    "version": 2
   },
   "file_extension": ".py",
   "mimetype": "text/x-python",
   "name": "python",
   "nbconvert_exporter": "python",
   "pygments_lexer": "ipython2",
   "version": "2.7.11"
  }
 },
 "nbformat": 4,
 "nbformat_minor": 0
}
