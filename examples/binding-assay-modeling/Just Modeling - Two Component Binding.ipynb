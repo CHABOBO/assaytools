{
 "cells": [
  {
   "cell_type": "markdown",
   "metadata": {},
   "source": [
    "###In this notebook we are playing with plotting complex concentration as a function of Kd. \n",
    "We are comparing known ligands and known proteins with known ranges of Kd. Complex concentration and fluorescence of the complex are assumed to be directly related, but issues and errors of fluorescence will also be addressed, for example the detection limit of our fluorimeter will be taken into account. At the very end, a model of competitive ligand binding will also be addressed."
   ]
  },
  {
   "cell_type": "code",
   "execution_count": 1,
   "metadata": {
    "collapsed": false
   },
   "outputs": [
    {
     "name": "stdout",
     "output_type": "stream",
     "text": [
      "Populating the interactive namespace from numpy and matplotlib\n"
     ]
    }
   ],
   "source": [
    "import matplotlib.pyplot as plt\n",
    "import numpy as np\n",
    "import seaborn as sns\n",
    "from IPython.display import display, Math, Latex #Do we even need this anymore?\n",
    "%pylab inline"
   ]
  },
  {
   "cell_type": "markdown",
   "metadata": {},
   "source": [
    "###The Simple Model"
   ]
  },
  {
   "cell_type": "markdown",
   "metadata": {},
   "source": [
    "$$L + P \\underset{k_-1}{\\stackrel{k_1}{\\rightleftharpoons}} PL$$"
   ]
  },
  {
   "cell_type": "markdown",
   "metadata": {},
   "source": [
    "This is a simple model of our system."
   ]
  },
  {
   "cell_type": "markdown",
   "metadata": {},
   "source": [
    "We are assuming complex concentration [LP] is proportional to complex fluorescence (in this particular assay)."
   ]
  },
  {
   "cell_type": "markdown",
   "metadata": {},
   "source": [
    "We estimate/know the total Ligand $[L]_{tot} = [L] + [PL]$ and Protein $[P]_{tot} = [P] + [PL]$ concentration from the experimental setup, and presume we can measure the complex concentration in some way $[PL]$."
   ]
  },
  {
   "cell_type": "markdown",
   "metadata": {},
   "source": [
    "$$K_{d} = \\frac{[L][P]}{[PL]}$$"
   ]
  },
  {
   "cell_type": "markdown",
   "metadata": {},
   "source": [
    "From this relation can calculate $K_d$ from these three values."
   ]
  },
  {
   "cell_type": "markdown",
   "metadata": {
    "collapsed": true
   },
   "source": [
    "###Let's take a hypothetical case where $K_d$ = 2 nM. (2e-9 M)"
   ]
  },
  {
   "cell_type": "markdown",
   "metadata": {},
   "source": [
    "What binding curve would we expect?"
   ]
  },
  {
   "cell_type": "code",
   "execution_count": 2,
   "metadata": {
    "collapsed": false
   },
   "outputs": [],
   "source": [
    "Kd = 2e-9 # M"
   ]
  },
  {
   "cell_type": "markdown",
   "metadata": {},
   "source": [
    "The protein concentration for our assay will be 1 nM (half of the Kd)."
   ]
  },
  {
   "cell_type": "code",
   "execution_count": 3,
   "metadata": {
    "collapsed": true
   },
   "outputs": [],
   "source": [
    "Ptot = 1e-9 # M"
   ]
  },
  {
   "cell_type": "markdown",
   "metadata": {},
   "source": [
    "The ligand concentration will be a 12-point half-log dilution from 20 uM ligand (down to ~60 pM)."
   ]
  },
  {
   "cell_type": "code",
   "execution_count": 9,
   "metadata": {
    "collapsed": false
   },
   "outputs": [],
   "source": [
    "Ltot = 20.0e-6 / np.array([10**(float(i)/2.0) for i in range(12)]) # M"
   ]
  },
  {
   "cell_type": "markdown",
   "metadata": {},
   "source": [
    "To calculate $[PL]$ as a function of $[P]_{tot}$, $[L]_{tot}$, and $K_d$, we start with"
   ]
  },
  {
   "cell_type": "markdown",
   "metadata": {},
   "source": [
    "$$[PL] = \\frac{[L][P]}{K_{d} }$$"
   ]
  },
  {
   "cell_type": "markdown",
   "metadata": {},
   "source": [
    "Then we need to put L and P in terms of $[L]_{tot}$ and $[P]_{tot}$, using"
   ]
  },
  {
   "cell_type": "markdown",
   "metadata": {},
   "source": [
    "$$[L] = [L]_{tot}-[PL]$$"
   ]
  },
  {
   "cell_type": "markdown",
   "metadata": {
    "collapsed": false
   },
   "source": [
    "$$[P] = [P]_{tot}-[PL]$$"
   ]
  },
  {
   "cell_type": "markdown",
   "metadata": {},
   "source": [
    "This gives us:"
   ]
  },
  {
   "cell_type": "markdown",
   "metadata": {
    "collapsed": false
   },
   "source": [
    "$$[PL] = \\frac{([L]_{tot}-[PL])([P]_{tot}-[PL])}{K_{d} }$$"
   ]
  },
  {
   "cell_type": "markdown",
   "metadata": {},
   "source": [
    "Rearranging to form a quadratic equations, we get:"
   ]
  },
  {
   "cell_type": "markdown",
   "metadata": {
    "collapsed": false
   },
   "source": [
    "$$0 = [PL]^2 - [PL]([P]_{tot}+[L]_{tot}+K_{d}) + [P]_{tot} [L]_{tot}$$"
   ]
  },
  {
   "cell_type": "markdown",
   "metadata": {},
   "source": [
    "Using the solution for the quadratic equation:"
   ]
  },
  {
   "cell_type": "markdown",
   "metadata": {
    "collapsed": false
   },
   "source": [
    "$$x = \\frac{-b \\pm \\sqrt{b^2 - 4ac}}{2a}$$"
   ]
  },
  {
   "cell_type": "markdown",
   "metadata": {},
   "source": [
    "where $x = [PL]$, $a = 1$, $b = -([P]_{tot}+[L]_{tot}+K_d)$, and $c = [P]_{tot} [L]_{tot}$. We get as the only reasonable solution:"
   ]
  },
  {
   "cell_type": "markdown",
   "metadata": {
    "collapsed": false
   },
   "source": [
    "$$[PL] = \\frac{([P]_{tot} + [L]_{tot} + K_{d}) - \\sqrt{([P]_{tot} + [L]_{tot} + K_{d})^2 - 4[P]_{tot}[L]_{tot}}}{2}$$ "
   ]
  },
  {
   "cell_type": "code",
   "execution_count": 11,
   "metadata": {
    "collapsed": false
   },
   "outputs": [],
   "source": [
    "# Now we can use this to define a function that gives us PL from Kd, Ptot, and Ltot.\n",
    "def two_component_binding(Kd, Ptot, Ltot):\n",
    "    \"\"\"\n",
    "    Parameters\n",
    "    ----------\n",
    "    Kd : float\n",
    "        Dissociation constant\n",
    "    Ptot : float\n",
    "        Total protein concentration\n",
    "    Ltot : float\n",
    "        Total ligand concentration\n",
    "        \n",
    "    Returns\n",
    "    -------\n",
    "    P : float\n",
    "        Free protein concentration\n",
    "    L : float\n",
    "        Free ligand concentration\n",
    "    PL : float\n",
    "        Complex concentration\n",
    "    \"\"\"\n",
    "                                    \n",
    "    PL = 0.5 * ((Ptot + Ltot + Kd) - np.sqrt((Ptot + Ltot + Kd)**2 - 4*Ptot*Ltot))  # complex concentration (uM)\n",
    "    P = Ptot - PL; # free protein concentration in sample cell after n injections (uM)                                                                                                                                                                                                                          \n",
    "    L = Ltot - PL; # free ligand concentration in sample cell after n injections (uM)                                                                                                                                                                                                                           \n",
    "    return [P, L, PL]"
   ]
  },
  {
   "cell_type": "code",
   "execution_count": 12,
   "metadata": {
    "collapsed": false
   },
   "outputs": [],
   "source": [
    "[L, P, PL] = two_component_binding(Kd, Ptot, Ltot)"
   ]
  },
  {
   "cell_type": "code",
   "execution_count": 13,
   "metadata": {
    "collapsed": false
   },
   "outputs": [
    {
     "name": "stdout",
     "output_type": "stream",
     "text": [
      "[  2.00000000e-05   6.32455532e-06   2.00000000e-06   6.32455532e-07\n",
      "   2.00000000e-07   6.32455532e-08   2.00000000e-08   6.32455532e-09\n",
      "   2.00000000e-09   6.32455532e-10   2.00000000e-10   6.32455532e-11]\n"
     ]
    }
   ],
   "source": [
    "print Ltot"
   ]
  },
  {
   "cell_type": "code",
   "execution_count": 14,
   "metadata": {
    "collapsed": false
   },
   "outputs": [
    {
     "name": "stdout",
     "output_type": "stream",
     "text": [
      "[  9.99900005e-10   9.99683822e-10   9.99000500e-10   9.96842730e-10\n",
      "   9.90050244e-10   9.68884511e-10   9.05189950e-10   7.36430279e-10\n",
      "   4.38447187e-10   1.83368995e-10   6.37708504e-11   2.07876510e-11]\n"
     ]
    }
   ],
   "source": [
    "print PL"
   ]
  },
  {
   "cell_type": "markdown",
   "metadata": {},
   "source": [
    "###Now we can plot our complex concentration as a function of our ligand concentration!"
   ]
  },
  {
   "cell_type": "code",
   "execution_count": 58,
   "metadata": {
    "collapsed": false
   },
   "outputs": [
    {
     "data": {
      "image/png": "[encoded data removed]",
      "text/plain": [
       "<matplotlib.figure.Figure at 0x10b67cc50>"
      ]
     },
     "metadata": {},
     "output_type": "display_data"
    }
   ],
   "source": [
    "# y will be complex concentration\n",
    "# x will be total ligand concentration\n",
    "plt.semilogx(Ltot, PL / Ptot, 'ko')\n",
    "plt.xlabel('$[L]_{tot}$ / M')\n",
    "plt.ylabel('fractional binding $[PL] / [P]_{tot}$')\n",
    "plt.ylim(0, 1.05)\n",
    "plt.axvline(Kd,color='r',linestyle='--',label='K_d')\n",
    "plt.legend();"
   ]
  },
  {
   "cell_type": "markdown",
   "metadata": {},
   "source": [
    "Okay, so now lets do something a little more fun."
   ]
  },
  {
   "cell_type": "markdown",
   "metadata": {},
   "source": [
    "### Let's overlap the curves we get for different amounts of protein in the assay."
   ]
  },
  {
   "cell_type": "code",
   "execution_count": 59,
   "metadata": {
    "collapsed": true
   },
   "outputs": [],
   "source": [
    "[L2, P2, PL2] = two_component_binding(Kd, Ptot/2, Ltot)\n",
    "[L3, P3, PL3] = two_component_binding(Kd, Ptot*2, Ltot)"
   ]
  },
  {
   "cell_type": "code",
   "execution_count": 60,
   "metadata": {
    "collapsed": false
   },
   "outputs": [
    {
     "data": {
      "image/png": "[encoded data removed]",
      "text/plain": [
       "<matplotlib.figure.Figure at 0x10cc6c950>"
      ]
     },
     "metadata": {},
     "output_type": "display_data"
    }
   ],
   "source": [
    "# y will be complex concentration\n",
    "# x will be total ligand concentration\n",
    "plt.semilogx(Ltot,PL,'b',Ltot,PL2,'g',Ltot,PL3,'k')\n",
    "plt.xlabel('$[L]_{tot}$ / M')\n",
    "plt.ylabel('$[PL]$ / M')\n",
    "plt.ylim(0,2.05e-9)\n",
    "plt.axhline(Ptot,color='b',linestyle='--',label='$[P]_{tot}$')\n",
    "plt.axhline(Ptot/2,color='g',linestyle='--',label='$[P]_{tot}$/2')\n",
    "plt.axhline(Ptot*2,color='k',linestyle='--', label='$[P]_{tot}$*2')\n",
    "plt.axvline(Kd,color='r',linestyle='--',label='$K_d$')\n",
    "plt.legend();"
   ]
  },
  {
   "cell_type": "markdown",
   "metadata": {},
   "source": [
    "###Let's do even more fun things!"
   ]
  },
  {
   "cell_type": "markdown",
   "metadata": {},
   "source": [
    "Say we have one molecule that has a different Kd for a bunch of proteins. We'll keep the protein concentration the same, but look at how our complex concentration changes as a function of Kd."
   ]
  },
  {
   "cell_type": "code",
   "execution_count": 61,
   "metadata": {
    "collapsed": true
   },
   "outputs": [],
   "source": [
    "[L4, P4, PL4] = two_component_binding(Kd/10, Ptot, Ltot)\n",
    "[L5, P5, PL5] = two_component_binding(Kd*10, Ptot, Ltot)"
   ]
  },
  {
   "cell_type": "code",
   "execution_count": 63,
   "metadata": {
    "collapsed": false
   },
   "outputs": [
    {
     "data": {
      "image/png": "[encoded data removed]",
      "text/plain": [
       "<matplotlib.figure.Figure at 0x10c70a3d0>"
      ]
     },
     "metadata": {},
     "output_type": "display_data"
    }
   ],
   "source": [
    "# y will be complex concentration\n",
    "# x will be total ligand concentration\n",
    "plt.semilogx(Ltot,PL,'o',label='$K_d$');\n",
    "plt.semilogx(Ltot,PL4,'violet',label='0.1 $K_d$');\n",
    "plt.semilogx(Ltot,PL5,'.75',label='10 $K_d$')\n",
    "plt.xlabel('$[L]_{tot} / M$')\n",
    "plt.ylabel('$[PL]$ / M')\n",
    "plt.ylim(0,1.05e-9)\n",
    "plt.axhline(Ptot,color='0.75',linestyle='--',label='$[P]_{tot}$')\n",
    "#plt.axvline(Kd/10,color='violet',label='Kd/10')\n",
    "#plt.axvline(Kd*10,color='.75',label='Kd*10')\n",
    "plt.axvline(Kd,color='r',linestyle='--',label='$K_d$')\n",
    "plt.legend();"
   ]
  },
  {
   "cell_type": "markdown",
   "metadata": {},
   "source": [
    "###Now let's make this new plot for 'simulated model of dilution series experiment' figure"
   ]
  },
  {
   "cell_type": "code",
   "execution_count": 64,
   "metadata": {
    "collapsed": true
   },
   "outputs": [],
   "source": [
    "# Let's plot Kd's ranging from 1mM to 10pM\n",
    "Kd_max = 1e-3 # M"
   ]
  },
  {
   "cell_type": "code",
   "execution_count": 65,
   "metadata": {
    "collapsed": true
   },
   "outputs": [],
   "source": [
    "[La, Pa, PLa] = two_component_binding(Kd_max, Ptot, Ltot)\n",
    "[Lb, Pb, PLb] = two_component_binding(Kd_max/10, Ptot, Ltot)\n",
    "[Lc, Pc, PLc] = two_component_binding(Kd_max/100, Ptot, Ltot)\n",
    "[Ld, Pd, PLd] = two_component_binding(Kd_max/1e3, Ptot, Ltot)\n",
    "[Le, Pe, PLe] = two_component_binding(Kd_max/1e4, Ptot, Ltot)\n",
    "[Lf, Pf, PLf] = two_component_binding(Kd_max/1e5, Ptot, Ltot)\n",
    "[Lg, Pg, PLg] = two_component_binding(Kd_max/1e6, Ptot, Ltot)\n",
    "[Lh, Ph, PLh] = two_component_binding(Kd_max/1e7, Ptot, Ltot)\n",
    "[Li, Pi, PLi] = two_component_binding(Kd_max/1e8, Ptot, Ltot)\n",
    "[Lj, Pj, PLj] = two_component_binding(Kd_max/1e9, Ptot, Ltot)"
   ]
  },
  {
   "cell_type": "code",
   "execution_count": 75,
   "metadata": {
    "collapsed": false
   },
   "outputs": [
    {
     "data": {
      "image/png": "[encoded data removed]",
      "text/plain": [
       "<matplotlib.figure.Figure at 0x10e28cc90>"
      ]
     },
     "metadata": {},
     "output_type": "display_data"
    }
   ],
   "source": [
    "# y will be complex concentration\n",
    "# x will be total ligand concentration\n",
    "plt.figure(figsize=(10,3))\n",
    "plt.semilogx(Ltot,PLa,'-bo',label='1 mM');\n",
    "plt.semilogx(Ltot,PLb,'-ko',label='100 $\\mu$M');\n",
    "plt.semilogx(Ltot,PLc,'-go',label='10 $\\mu$M');\n",
    "plt.semilogx(Ltot,PLd,'-ro',label='1 $\\mu$M');\n",
    "plt.semilogx(Ltot,PLe,'-co',label='100 nM');\n",
    "plt.semilogx(Ltot,PLf,'-mo',label='10 nM');\n",
    "plt.semilogx(Ltot,PLg,'-yo',label='1 nM');\n",
    "plt.semilogx(Ltot,PLh,'-bo',label='100 pM');\n",
    "plt.semilogx(Ltot,PLi,'-ko',label='10 pM');\n",
    "plt.semilogx(Ltot,PLj,'-go',label='1 pM');\n",
    "plt.xlabel('$[L]_{tot}$ / M')\n",
    "plt.ylabel('$[PL]$ / M')\n",
    "plt.xlim(1.5e-12,1.5e-4)\n",
    "plt.axhline(0.1e-9,color='0.75',linestyle='--',label='detection limit');\n",
    "plt.legend(loc=0);"
   ]
  },
  {
   "cell_type": "code",
   "execution_count": null,
   "metadata": {
    "collapsed": true
   },
   "outputs": [],
   "source": []
  },
  {
   "cell_type": "markdown",
   "metadata": {},
   "source": [
    "###Okay! Now let's do some stuff with kinases!"
   ]
  },
  {
   "cell_type": "markdown",
   "metadata": {},
   "source": [
    "We're going to pick 10 kinases and look at what binding curves we would expect to the fluorescent inhibitor bosutinib.\n",
    "Info from: http://www.guidetopharmacology.org/GRAC/LigandDisplayForward?tab=screens&ligandId=5710\n",
    "Specifically: http://www.guidetopharmacology.org/GRAC/LigandScreenDisplayForward?ligandId=5710&screenId=2"
   ]
  },
  {
   "cell_type": "markdown",
   "metadata": {},
   "source": [
    "####Again units in nM. Abl1 value is for nonphosphorylated form. Others don't seem to specify?"
   ]
  },
  {
   "cell_type": "code",
   "execution_count": 67,
   "metadata": {
    "collapsed": true
   },
   "outputs": [],
   "source": [
    "Kd_Src = 1.0e-9 # M\n",
    "Kd_Abl = 0.12e-9 # M\n",
    "Kd_Abl_T315I = 21.0e-9 # M\n",
    "Kd_p38 = 3000.0e-9 # M \n",
    "Kd_Aur = 3000.0e-9 # M\n",
    "Kd_CK2 = 3000.0e-9 # M\n",
    "Kd_SYK = 290.0e-9 # M\n",
    "Kd_DDR = 120.0e-9 # M\n",
    "Kd_MEK = 19.0e-9 # M\n",
    "\n",
    "#This CK2, Aur, and p38 value is actually 'greater than'."
   ]
  },
  {
   "cell_type": "markdown",
   "metadata": {},
   "source": [
    "####We'll use the same Ltot and Ptot as before."
   ]
  },
  {
   "cell_type": "code",
   "execution_count": 68,
   "metadata": {
    "collapsed": true
   },
   "outputs": [],
   "source": [
    "[L6, P6, PL6] = two_component_binding(Kd_Src, Ptot, Ltot)\n",
    "[L7, P7, PL7] = two_component_binding(Kd_Abl, Ptot, Ltot)\n",
    "[L8, P8, PL8] = two_component_binding(Kd_Abl_T315I, Ptot, Ltot)\n",
    "[L9, P9, PL9] = two_component_binding(Kd_p38, Ptot, Ltot)"
   ]
  },
  {
   "cell_type": "code",
   "execution_count": 74,
   "metadata": {
    "collapsed": false
   },
   "outputs": [
    {
     "data": {
      "image/png": "[encoded data removed]",
      "text/plain": [
       "<matplotlib.figure.Figure at 0x10e2040d0>"
      ]
     },
     "metadata": {},
     "output_type": "display_data"
    }
   ],
   "source": [
    "# y will be complex concentration\n",
    "# x will be total ligand concentration\n",
    "Src, = plt.semilogx(Ltot,PL6,'o', label='Src')\n",
    "Abl, = plt.semilogx(Ltot,PL7,'violet', label = 'Abl')\n",
    "AblGK, = plt.semilogx(Ltot,PL8,'.75', label = 'AblGK')\n",
    "p38, = plt.semilogx(Ltot,PL9,'k', label = 'p38')\n",
    "plt.axhline(0.1e-9,color='0.75',linestyle='--', label='detection limit');\n",
    "plt.xlabel('$[L]_{tot}$')\n",
    "plt.ylabel('$[PL]$')\n",
    "#plt.legend(handles=[Src, Abl, AblGK, p38], loc =0);\n",
    "plt.legend(loc=0);"
   ]
  },
  {
   "cell_type": "markdown",
   "metadata": {},
   "source": [
    "#### Okay, this is all great! In theory we can use this with whatever protein-ligand combination we want!"
   ]
  },
  {
   "cell_type": "markdown",
   "metadata": {},
   "source": [
    "### But in practice there are limitations!"
   ]
  },
  {
   "cell_type": "markdown",
   "metadata": {},
   "source": [
    " - Experimental error\n",
    " - We want to limit the amount of protein used\n",
    " - The ligand also fluoresces.\n",
    " - The inner filter effect\n",
    " - The Fluorescence detection has a detection limit."
   ]
  },
  {
   "cell_type": "markdown",
   "metadata": {},
   "source": [
    "#### How do these limit the Kd, kinase, inhibitor, and the concentrations of kinase and inhibitor we can effectively access in our experimental design?"
   ]
  },
  {
   "cell_type": "code",
   "execution_count": null,
   "metadata": {
    "collapsed": true
   },
   "outputs": [],
   "source": []
  }
 ],
 "metadata": {
  "kernelspec": {
   "display_name": "Python 2",
   "language": "python",
   "name": "python2"
  },
  "language_info": {
   "codemirror_mode": {
    "name": "ipython",
    "version": 2
   },
   "file_extension": ".py",
   "mimetype": "text/x-python",
   "name": "python",
   "nbconvert_exporter": "python",
   "pygments_lexer": "ipython2",
   "version": "2.7.10"
  }
 },
 "nbformat": 4,
 "nbformat_minor": 0
}
