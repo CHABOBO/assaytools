{
 "cells": [
  {
   "cell_type": "markdown",
   "metadata": {},
   "source": [
    "###In this notebook I am playing with plotting complex concentration as a function of Kd. \n",
    "Comparing known ligands and known proteins with known ranges of Kd will be done. Complex concentration and fluorescence of the complex are assumed to be directly related, but issues and errors of fluorescence will also be addressed, for example the detection limit of our fluorimeter will be taken into account. At the very end, a model of competitive ligand binding will also be addressed."
   ]
  },
  {
   "cell_type": "code",
   "execution_count": 2,
   "metadata": {
    "collapsed": false
   },
   "outputs": [
    {
     "name": "stdout",
     "output_type": "stream",
     "text": [
      "Populating the interactive namespace from numpy and matplotlib\n"
     ]
    }
   ],
   "source": [
    "import matplotlib.pyplot as plt\n",
    "import numpy as np\n",
    "import seaborn as sns\n",
    "from IPython.display import display, Math, Latex\n",
    "%pylab inline"
   ]
  },
  {
   "cell_type": "markdown",
   "metadata": {},
   "source": [
    "###The Simple Model"
   ]
  },
  {
   "cell_type": "markdown",
   "metadata": {},
   "source": [
    "$$L + P \\underset{k_-1}{\\stackrel{k_1}{\\rightleftharpoons}} PL$$"
   ]
  },
  {
   "cell_type": "markdown",
   "metadata": {},
   "source": [
    "This is a simple model of our system."
   ]
  },
  {
   "cell_type": "markdown",
   "metadata": {},
   "source": [
    "We are assuming complex concentration [LP] is proportional to complex fluorescence (in this particular assay)."
   ]
  },
  {
   "cell_type": "markdown",
   "metadata": {},
   "source": [
    "We estimate/know the Ligand [L] and Protein [P] concentration from the experimental setup."
   ]
  },
  {
   "cell_type": "markdown",
   "metadata": {},
   "source": [
    "$$K_{d} = \\frac{[L][P]}{[PL]}$$"
   ]
  },
  {
   "cell_type": "markdown",
   "metadata": {},
   "source": [
    "From this relation can calculate Kd from these three values."
   ]
  },
  {
   "cell_type": "markdown",
   "metadata": {
    "collapsed": true
   },
   "source": [
    "###Let's take a hypothetical case where Kd = 2nM. (2e-9 M)"
   ]
  },
  {
   "cell_type": "markdown",
   "metadata": {},
   "source": [
    "What binding curve would we expect?"
   ]
  },
  {
   "cell_type": "code",
   "execution_count": 3,
   "metadata": {
    "collapsed": false
   },
   "outputs": [],
   "source": [
    "Kd = 2e-9"
   ]
  },
  {
   "cell_type": "markdown",
   "metadata": {},
   "source": [
    "The protein concentration for our assay will be 1 nM (half of the Kd)."
   ]
  },
  {
   "cell_type": "code",
   "execution_count": 4,
   "metadata": {
    "collapsed": true
   },
   "outputs": [],
   "source": [
    "Ptot = 1e-9"
   ]
  },
  {
   "cell_type": "markdown",
   "metadata": {},
   "source": [
    "The ligand concentration will be in half log dilution from 20 uM ligand."
   ]
  },
  {
   "cell_type": "code",
   "execution_count": null,
   "metadata": {
    "collapsed": true
   },
   "outputs": [],
   "source": []
  },
  {
   "cell_type": "code",
   "execution_count": 5,
   "metadata": {
    "collapsed": true
   },
   "outputs": [],
   "source": [
    "Ltot = 20.0e-6 / np.array([10**(float(i)/2.0) for i in range(24)]) "
   ]
  },
  {
   "cell_type": "markdown",
   "metadata": {},
   "source": [
    "To calculate PL as a function of Ptot, Ltot, and Kd, we start with"
   ]
  },
  {
   "cell_type": "markdown",
   "metadata": {},
   "source": [
    "$$[PL] = \\frac{[L][P]}{K_{d} }$$"
   ]
  },
  {
   "cell_type": "markdown",
   "metadata": {},
   "source": [
    "Then we need to put L and P in terms of Ltot and Ptot, using"
   ]
  },
  {
   "cell_type": "markdown",
   "metadata": {},
   "source": [
    "$$[L] = [Ltot]-[PL]$$"
   ]
  },
  {
   "cell_type": "markdown",
   "metadata": {
    "collapsed": false
   },
   "source": [
    "$$[P] = [Ptot]-[PL]$$"
   ]
  },
  {
   "cell_type": "markdown",
   "metadata": {},
   "source": [
    "This gives us:"
   ]
  },
  {
   "cell_type": "markdown",
   "metadata": {
    "collapsed": false
   },
   "source": [
    "$$[PL] = \\frac{([Ltot]-[PL])([Ptot]-[PL])}{K_{d} }$$"
   ]
  },
  {
   "cell_type": "markdown",
   "metadata": {},
   "source": [
    "Solving this for 0 you get:"
   ]
  },
  {
   "cell_type": "markdown",
   "metadata": {
    "collapsed": false
   },
   "source": [
    "$$0 = [PL]^2 - [PL]([Ptot]+[Ltot]+K_{d}) + [Ptot][Ltot]$$"
   ]
  },
  {
   "cell_type": "markdown",
   "metadata": {},
   "source": [
    "Using the quadratic equation:"
   ]
  },
  {
   "cell_type": "markdown",
   "metadata": {
    "collapsed": false
   },
   "source": [
    "$$x = \\frac{-b \\pm \\sqrt{b^2 - 4ac}}{2a}$$"
   ]
  },
  {
   "cell_type": "markdown",
   "metadata": {},
   "source": [
    "where x is $[PL]$, a is 1, $-([Ptot]+[Ltot]+Kd)$ is b, and $[Ptot][Ltot]$ is c. We get as the only reasonable solution:"
   ]
  },
  {
   "cell_type": "markdown",
   "metadata": {
    "collapsed": false
   },
   "source": [
    "$$[PL] = \\frac{([Ptot] + [Ltot] + K_{d}) - \\sqrt{([Ptot] + [Ltot] + K_{d})^2 - 4[Ptot][Ltot]}}{2}$$ "
   ]
  },
  {
   "cell_type": "code",
   "execution_count": 6,
   "metadata": {
    "collapsed": false
   },
   "outputs": [],
   "source": [
    "#Now we can use this to define a function that gives us PL from Kd, Ptot, and Ltot.\n",
    "def two_component_binding(Kd, Ptot, Ltot):\n",
    "    \"\"\"\n",
    "    Parameters\n",
    "    ----------\n",
    "    Kd : float\n",
    "        Dissociation constant\n",
    "    Ptot : float\n",
    "        Total protein concentration\n",
    "    Ltot : float\n",
    "        Total ligand concentration\n",
    "        \n",
    "    Returns\n",
    "    -------\n",
    "    P : float\n",
    "        Free protein concentration\n",
    "    L : float\n",
    "        Free ligand concentration\n",
    "    PL : float\n",
    "        Complex concentration\n",
    "    \"\"\"\n",
    "                                    \n",
    "    PL = 0.5 * ((Ptot + Ltot + Kd) - np.sqrt((Ptot + Ltot + Kd)**2 - 4*Ptot*Ltot))  # complex concentration (uM)\n",
    "    P = Ptot - PL; # free protein concentration in sample cell after n injections (uM)                                                                                                                                                                                                                          \n",
    "    L = Ltot - PL; # free ligand concentration in sample cell after n injections (uM)                                                                                                                                                                                                                           \n",
    "    return [P, L, PL]"
   ]
  },
  {
   "cell_type": "code",
   "execution_count": 7,
   "metadata": {
    "collapsed": false
   },
   "outputs": [],
   "source": [
    "[L, P, PL] = two_component_binding(Kd, Ptot, Ltot)"
   ]
  },
  {
   "cell_type": "code",
   "execution_count": 9,
   "metadata": {
    "collapsed": false
   },
   "outputs": [
    {
     "name": "stdout",
     "output_type": "stream",
     "text": [
      "[  2.00000000e-05   6.32455532e-06   2.00000000e-06   6.32455532e-07\n",
      "   2.00000000e-07   6.32455532e-08   2.00000000e-08   6.32455532e-09\n",
      "   2.00000000e-09   6.32455532e-10   2.00000000e-10   6.32455532e-11\n",
      "   2.00000000e-11   6.32455532e-12   2.00000000e-12   6.32455532e-13\n",
      "   2.00000000e-13   6.32455532e-14   2.00000000e-14   6.32455532e-15\n",
      "   2.00000000e-15   6.32455532e-16   2.00000000e-16   6.32455532e-17]\n"
     ]
    }
   ],
   "source": [
    "print Ltot"
   ]
  },
  {
   "cell_type": "code",
   "execution_count": 10,
   "metadata": {
    "collapsed": false
   },
   "outputs": [
    {
     "name": "stdout",
     "output_type": "stream",
     "text": [
      "[  9.99900005e-10   9.99683822e-10   9.99000500e-10   9.96842730e-10\n",
      "   9.90050244e-10   9.68884511e-10   9.05189950e-10   7.36430279e-10\n",
      "   4.38447187e-10   1.83368995e-10   6.37708504e-11   2.07876510e-11\n",
      "   6.63710303e-12   2.10522423e-12   6.66370436e-13   2.10788883e-13\n",
      "   6.66637038e-14   2.10815548e-14   6.66663704e-15   2.10818214e-15\n",
      "   6.66666370e-16   2.10818481e-16   6.66666637e-17   2.10818508e-17]\n"
     ]
    }
   ],
   "source": [
    "print PL"
   ]
  },
  {
   "cell_type": "markdown",
   "metadata": {},
   "source": [
    "###Now we can plot our complex concentration as a function of our ligand concentration!"
   ]
  },
  {
   "cell_type": "code",
   "execution_count": 19,
   "metadata": {
    "collapsed": false
   },
   "outputs": [
    {
     "data": {
      "text/plain": [
       "<matplotlib.legend.Legend at 0x10c2abfd0>"
      ]
     },
     "execution_count": 19,
     "metadata": {},
     "output_type": "execute_result"
    },
    {
     "data": {
      "image/png": "[encoded data removed]",
      "text/plain": [
       "<matplotlib.figure.Figure at 0x10c1a4d50>"
      ]
     },
     "metadata": {},
     "output_type": "display_data"
    }
   ],
   "source": [
    "# y will be complex concentration\n",
    "# x will be total ligand concentration\n",
    "plt.semilogx(Ltot,PL, 'o')\n",
    "plt.xlabel('L')\n",
    "plt.ylabel('PL')\n",
    "plt.ylim(0,1.3e-9)\n",
    "plt.axhline(Ptot,color='0.75',linestyle='--',label='[Ptot]')\n",
    "plt.axvline(Kd,color='k',linestyle='--',label='Kd')\n",
    "plt.legend()"
   ]
  },
  {
   "cell_type": "markdown",
   "metadata": {},
   "source": [
    "Okay, so now lets do something a little more fun."
   ]
  },
  {
   "cell_type": "markdown",
   "metadata": {},
   "source": [
    "### Let's overlap the curves we get for different amounts of protein in the assay."
   ]
  },
  {
   "cell_type": "code",
   "execution_count": 20,
   "metadata": {
    "collapsed": true
   },
   "outputs": [],
   "source": [
    "[L2, P2, PL2] = two_component_binding(Kd, Ptot/2, Ltot)\n",
    "[L3, P3, PL3] = two_component_binding(Kd, Ptot*2, Ltot)"
   ]
  },
  {
   "cell_type": "code",
   "execution_count": 21,
   "metadata": {
    "collapsed": false
   },
   "outputs": [
    {
     "data": {
      "text/plain": [
       "<matplotlib.legend.Legend at 0x10c56fed0>"
      ]
     },
     "execution_count": 21,
     "metadata": {},
     "output_type": "execute_result"
    },
    {
     "data": {
      "image/png": "[encoded data removed]",
      "text/plain": [
       "<matplotlib.figure.Figure at 0x10c2d6d50>"
      ]
     },
     "metadata": {},
     "output_type": "display_data"
    }
   ],
   "source": [
    "# y will be complex concentration\n",
    "# x will be total ligand concentration\n",
    "plt.semilogx(Ltot,PL,'o',Ltot,PL2,'g',Ltot,PL3,'k')\n",
    "plt.xlabel('L')\n",
    "plt.ylabel('PL')\n",
    "plt.ylim(0,2.5e-9)\n",
    "plt.axhline(Ptot,color='0.75',linestyle='--',label='[Ptot]')\n",
    "#plt.axhline(Ptot/2,color='g',label='[Ptot]/2')\n",
    "#plt.axhline(Ptot*2,color='k',label='[Ptot]*2')\n",
    "plt.axvline(Kd,color='k',linestyle='--',label='Kd')\n",
    "plt.legend()"
   ]
  },
  {
   "cell_type": "markdown",
   "metadata": {},
   "source": [
    "###Let's do even more fun things!"
   ]
  },
  {
   "cell_type": "markdown",
   "metadata": {},
   "source": [
    "Say we have one molecule that has a different Kd for a bunch of proteins. We'll keep the protein concentration the same, but look at how our complex concentration changes as a function of Kd."
   ]
  },
  {
   "cell_type": "code",
   "execution_count": 22,
   "metadata": {
    "collapsed": true
   },
   "outputs": [],
   "source": [
    "[L4, P4, PL4] = two_component_binding(Kd/10, Ptot, Ltot)\n",
    "[L5, P5, PL5] = two_component_binding(Kd*10, Ptot, Ltot)"
   ]
  },
  {
   "cell_type": "code",
   "execution_count": 23,
   "metadata": {
    "collapsed": false
   },
   "outputs": [
    {
     "data": {
      "text/plain": [
       "<matplotlib.legend.Legend at 0x10cbeced0>"
      ]
     },
     "execution_count": 23,
     "metadata": {},
     "output_type": "execute_result"
    },
    {
     "data": {
      "image/png": "[encoded data removed]",
      "text/plain": [
       "<matplotlib.figure.Figure at 0x10c981dd0>"
      ]
     },
     "metadata": {},
     "output_type": "display_data"
    }
   ],
   "source": [
    "# y will be complex concentration\n",
    "# x will be total ligand concentration\n",
    "plt.semilogx(Ltot,PL,'o',Ltot,PL4,'violet',Ltot,PL5,'.75')\n",
    "plt.xlabel('L')\n",
    "plt.ylabel('PL')\n",
    "plt.ylim(0,1.5e-9)\n",
    "plt.axhline(Ptot,color='0.75',linestyle='--',label='[Ptot]')\n",
    "#plt.axvline(Kd/10,color='violet',label='Kd/10')\n",
    "#plt.axvline(Kd*10,color='.75',label='Kd*10')\n",
    "plt.axvline(Kd,color='k',linestyle='--',label='Kd')\n",
    "plt.legend()"
   ]
  },
  {
   "cell_type": "markdown",
   "metadata": {},
   "source": [
    "###Now let's make this new plot for 'simulated model of dilution series experiment' figure"
   ]
  },
  {
   "cell_type": "code",
   "execution_count": 49,
   "metadata": {
    "collapsed": true
   },
   "outputs": [],
   "source": [
    "#Let's plot Kd's ranging from 1mM to 10pM\n",
    "Kd_max = 1e-3"
   ]
  },
  {
   "cell_type": "code",
   "execution_count": 54,
   "metadata": {
    "collapsed": true
   },
   "outputs": [],
   "source": [
    "[La, Pa, PLa] = two_component_binding(Kd_max, Ptot, Ltot)\n",
    "[Lb, Pb, PLb] = two_component_binding(Kd_max/10, Ptot, Ltot)\n",
    "[Lc, Pc, PLc] = two_component_binding(Kd_max/100, Ptot, Ltot)\n",
    "[Ld, Pd, PLd] = two_component_binding(Kd_max/1e3, Ptot, Ltot)\n",
    "[Le, Pe, PLe] = two_component_binding(Kd_max/1e4, Ptot, Ltot)\n",
    "[Lf, Pf, PLf] = two_component_binding(Kd_max/1e5, Ptot, Ltot)\n",
    "[Lg, Pg, PLg] = two_component_binding(Kd_max/1e6, Ptot, Ltot)\n",
    "[Lh, Ph, PLh] = two_component_binding(Kd_max/1e7, Ptot, Ltot)\n",
    "[Li, Pi, PLi] = two_component_binding(Kd_max/1e8, Ptot, Ltot)\n",
    "[Lj, Pj, PLj] = two_component_binding(Kd_max/1e9, Ptot, Ltot)"
   ]
  },
  {
   "cell_type": "code",
   "execution_count": 63,
   "metadata": {
    "collapsed": false
   },
   "outputs": [
    {
     "data": {
      "text/plain": [
       "<matplotlib.lines.Line2D at 0x110f9a750>"
      ]
     },
     "execution_count": 63,
     "metadata": {},
     "output_type": "execute_result"
    },
    {
     "data": {
      "image/png": "[encoded data removed]",
      "text/plain": [
       "<matplotlib.figure.Figure at 0x112078190>"
      ]
     },
     "metadata": {},
     "output_type": "display_data"
    }
   ],
   "source": [
    "# y will be complex concentration\n",
    "# x will be total ligand concentration\n",
    "plt.figure(figsize=(10,3))\n",
    "plt.semilogx(Ltot,PLa,'-bo',Ltot,PLb,'-ko',Ltot,PLc,'-go',Ltot,PLd,'-ro',Ltot,PLe,'-co',Ltot,PLf,'-mo',Ltot,PLg,'-yo',Ltot,PLh,'-bo',Ltot,PLi,'-ko',Ltot,PLj,'-go')\n",
    "plt.xlabel('L [M]')\n",
    "plt.ylabel('PL [M]')\n",
    "plt.xlim(1.5e-12,1.5e-4)\n",
    "plt.axhline(0.1e-9,color='0.75',linestyle='--')\n",
    "#plt.legend(['-bo','-ko'],[\"test1\",\"test2\"])\n",
    "\n",
    "#plt.text(.1,0.1,'detection limit')"
   ]
  },
  {
   "cell_type": "code",
   "execution_count": null,
   "metadata": {
    "collapsed": true
   },
   "outputs": [],
   "source": []
  },
  {
   "cell_type": "markdown",
   "metadata": {},
   "source": [
    "###Okay! Now let's do some stuff with kinases!"
   ]
  },
  {
   "cell_type": "markdown",
   "metadata": {},
   "source": [
    "We're going to pick 10 kinases and look at what binding curves we would expect to the fluorescent inhibitor bosutinib.\n",
    "Info from: http://www.guidetopharmacology.org/GRAC/LigandDisplayForward?tab=screens&ligandId=5710\n",
    "Specifically: http://www.guidetopharmacology.org/GRAC/LigandScreenDisplayForward?ligandId=5710&screenId=2"
   ]
  },
  {
   "cell_type": "markdown",
   "metadata": {},
   "source": [
    "####Again units in nM. Abl1 value is for nonphosphorylated form. Others don't seem to specify?"
   ]
  },
  {
   "cell_type": "code",
   "execution_count": 22,
   "metadata": {
    "collapsed": true
   },
   "outputs": [],
   "source": [
    "Kd_Src = 1.0e-9\n",
    "Kd_Abl = 0.12e-9\n",
    "Kd_Abl_T315I = 21.0e-9\n",
    "Kd_p38 = 3000.0e-9\n",
    "Kd_Aur = 3000.0e-9\n",
    "Kd_CK2 = 3000.0e-9\n",
    "Kd_SYK = 290.0e-9\n",
    "Kd_DDR = 120.0e-9\n",
    "Kd_MEK = 19.0e-9\n",
    "\n",
    "#This CK2, Aur, and p38 value is actually 'greater than'."
   ]
  },
  {
   "cell_type": "markdown",
   "metadata": {},
   "source": [
    "####We'll use the same Ltot and Ptot as before."
   ]
  },
  {
   "cell_type": "code",
   "execution_count": 30,
   "metadata": {
    "collapsed": true
   },
   "outputs": [],
   "source": [
    "[L6, P6, PL6] = two_component_binding(Kd_Src, Ptot, Ltot)\n",
    "[L7, P7, PL7] = two_component_binding(Kd_Abl, Ptot, Ltot)\n",
    "[L8, P8, PL8] = two_component_binding(Kd_Abl_T315I, Ptot, Ltot)\n",
    "[L9, P9, PL9] = two_component_binding(Kd_p38, Ptot, Ltot)"
   ]
  },
  {
   "cell_type": "code",
   "execution_count": 33,
   "metadata": {
    "collapsed": false
   },
   "outputs": [
    {
     "data": {
      "text/plain": [
       "<matplotlib.legend.Legend at 0x10d0f8a50>"
      ]
     },
     "execution_count": 33,
     "metadata": {},
     "output_type": "execute_result"
    },
    {
     "data": {
      "image/png": "[encoded data removed]",
      "text/plain": [
       "<matplotlib.figure.Figure at 0x10d804f90>"
      ]
     },
     "metadata": {},
     "output_type": "display_data"
    }
   ],
   "source": [
    "# y will be complex concentration\n",
    "# x will be total ligand concentration\n",
    "Src, = plt.semilogx(Ltot,PL6,'o', label='Src')\n",
    "Abl, = plt.semilogx(Ltot,PL7,'violet', label = 'Abl')\n",
    "AblGK, = plt.semilogx(Ltot,PL8,'.75', label = 'AblGK')\n",
    "p38, = plt.semilogx(Ltot,PL9,'k', label = 'p38')\n",
    "plt.xlabel('L')\n",
    "plt.ylabel('PL')\n",
    "plt.legend(handles=[Src, Abl, AblGK, p38], loc =0)"
   ]
  },
  {
   "cell_type": "markdown",
   "metadata": {},
   "source": [
    "#### Okay, this is all great! In theory we can use this with whatever protein-ligand combination we want!"
   ]
  },
  {
   "cell_type": "markdown",
   "metadata": {},
   "source": [
    "### But in practice there are limitations!"
   ]
  },
  {
   "cell_type": "markdown",
   "metadata": {},
   "source": [
    " - Experimental error\n",
    " - We want to limit the amount of protein used\n",
    " - The ligand also fluoresces.\n",
    " - The inner filter effect\n",
    " - The Fluorescence detection has a detection limit."
   ]
  },
  {
   "cell_type": "markdown",
   "metadata": {},
   "source": [
    "#### How do these limit the Kd, kinase, inhibitor, and the concentrations of kinase and inhibitor we can effectively access in our experimental design?"
   ]
  },
  {
   "cell_type": "code",
   "execution_count": null,
   "metadata": {
    "collapsed": true
   },
   "outputs": [],
   "source": []
  }
 ],
 "metadata": {
  "kernelspec": {
   "display_name": "Python 2",
   "language": "python",
   "name": "python2"
  },
  "language_info": {
   "codemirror_mode": {
    "name": "ipython",
    "version": 2
   },
   "file_extension": ".py",
   "mimetype": "text/x-python",
   "name": "python",
   "nbconvert_exporter": "python",
   "pygments_lexer": "ipython2",
   "version": "2.7.10"
  }
 },
 "nbformat": 4,
 "nbformat_minor": 0
}
