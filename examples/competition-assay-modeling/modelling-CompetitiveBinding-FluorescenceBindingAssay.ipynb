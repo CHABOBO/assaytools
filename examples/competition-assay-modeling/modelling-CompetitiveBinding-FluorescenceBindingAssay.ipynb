{
 "cells": [
  {
   "cell_type": "markdown",
   "metadata": {},
   "source": [
    "##Modeling Competitive Binding\n",
    "\n",
    "We will model binding of two ligands, one is fluorescent (L), the other competing ligand (A) is not. Kd of both of their binding to protein (P) are known. \n",
    "\n",
    "Complex concentration and fluorescence of the complex are assumed to be directly related."
   ]
  },
  {
   "cell_type": "code",
   "execution_count": 1,
   "metadata": {
    "collapsed": false
   },
   "outputs": [
    {
     "name": "stdout",
     "output_type": "stream",
     "text": [
      "Populating the interactive namespace from numpy and matplotlib\n"
     ]
    }
   ],
   "source": [
    "import matplotlib.pyplot as plt\n",
    "import numpy as np\n",
    "import seaborn as sns\n",
    "from IPython.display import display, Math, Latex #Do we even need this anymore?\n",
    "%pylab inline"
   ]
  },
  {
   "cell_type": "markdown",
   "metadata": {},
   "source": [
    "### Strictly Competitive Binding Model"
   ]
  },
  {
   "cell_type": "code",
   "execution_count": 2,
   "metadata": {
    "collapsed": true
   },
   "outputs": [],
   "source": [
    "# I must add a figure here."
   ]
  },
  {
   "cell_type": "markdown",
   "metadata": {},
   "source": [
    "$$L + P \\underset{k_dL}{\\stackrel{k_L}{\\rightleftharpoons}} PL$$\n",
    "\n",
    "$$A + P \\underset{k_dA}{\\stackrel{k_A}{\\rightleftharpoons}} PA$$"
   ]
  },
  {
   "cell_type": "markdown",
   "metadata": {
    "collapsed": true
   },
   "source": [
    "### Modelling the competition experiment - Expected Binding Curve\n",
    "P: protein (HSA)\n",
    "\n",
    "L: tracer ligand (dansyl amide), \n",
    "\n",
    "A: non-fluorescent ligand (phenylbutazone)"
   ]
  },
  {
   "cell_type": "code",
   "execution_count": 3,
   "metadata": {
    "collapsed": false
   },
   "outputs": [],
   "source": [
    "# Dissociation constant for fluorescent ligand L: K_dL (uM)\n",
    "Kd_L = 15"
   ]
  },
  {
   "cell_type": "markdown",
   "metadata": {},
   "source": [
    "Ideally protein concentration should be 10 fold lower then Kd. It must be at least hafl of Kd if fluorescence detection requires higher protein concentration.\n",
    "\n",
    "For our assay it will be 0.5 uM."
   ]
  },
  {
   "cell_type": "code",
   "execution_count": 4,
   "metadata": {
    "collapsed": true
   },
   "outputs": [],
   "source": [
    "# Total protein (uM)\n",
    "Ptot = 0.5"
   ]
  },
  {
   "cell_type": "markdown",
   "metadata": {},
   "source": [
    "Ideally ligand concentation should span 100-fold Kd to 0.01-fold Kd, log dilution.\n",
    "\n",
    "The ligand concentration will be in half log dilution from 20 uM ligand."
   ]
  },
  {
   "cell_type": "code",
   "execution_count": 5,
   "metadata": {
    "collapsed": false
   },
   "outputs": [
    {
     "data": {
      "text/plain": [
       "array([  2.00000000e+03,   7.02238347e+02,   2.46569348e+02,\n",
       "         8.65752256e+01,   3.03982217e+01,   1.06733985e+01,\n",
       "         3.74763485e+00,   1.31586645e+00,   4.62025940e-01,\n",
       "         1.62226166e-01,   5.69607174e-02,   2.00000000e-02])"
      ]
     },
     "execution_count": 5,
     "metadata": {},
     "output_type": "execute_result"
    }
   ],
   "source": [
    "num_wells = 12.0\n",
    "# (uM)\n",
    "Lmax = 2000\n",
    "Lmin = 0.02\n",
    "# Factor for logarithmic dilution (n)\n",
    "# Lmax*((1/n)^(11)) = Lmin for 12 wells\n",
    "n = (Lmax/Lmin)**(1/(num_wells-1))\n",
    "\n",
    "# Ligand titration series (uM)\n",
    "Ltot = Lmax / np.array([n**(float(i)) for i in range(12)])\n",
    "Ltot"
   ]
  },
  {
   "cell_type": "code",
   "execution_count": 6,
   "metadata": {
    "collapsed": true
   },
   "outputs": [],
   "source": [
    "# Dissociation constant for non-fluorescent ligand A: K_dA (uM)\n",
    "Kd_A = 3.85"
   ]
  },
  {
   "cell_type": "code",
   "execution_count": 7,
   "metadata": {
    "collapsed": true
   },
   "outputs": [],
   "source": [
    "# Constant concentration of A will be added to all wells (uM)\n",
    "Atot= 50"
   ]
  },
  {
   "cell_type": "markdown",
   "metadata": {},
   "source": [
    "For the assumption that free $[A] = A_{tot}$, it is required that $[A] >> [P]$.\n",
    "Ligand depletion can cause additional shift of $ K_{dL,app}$"
   ]
  },
  {
   "cell_type": "markdown",
   "metadata": {},
   "source": [
    "---"
   ]
  },
  {
   "cell_type": "markdown",
   "metadata": {},
   "source": [
    "If competitive ligand is not present ($[A] = A_{tot} = 0$). Wel can calculate [PL] as a function of Ptot, Ltot, and Kd as follows:"
   ]
  },
  {
   "cell_type": "markdown",
   "metadata": {},
   "source": [
    "$$[PL] = \\frac{[L][P]}{K_{d} }$$"
   ]
  },
  {
   "cell_type": "markdown",
   "metadata": {},
   "source": [
    "Then we need to put L and P in terms of Ltot and Ptot, using"
   ]
  },
  {
   "cell_type": "markdown",
   "metadata": {},
   "source": [
    "$$[L] = [Ltot]-[PL]$$"
   ]
  },
  {
   "cell_type": "markdown",
   "metadata": {
    "collapsed": false
   },
   "source": [
    "$$[P] = [Ptot]-[PL]$$"
   ]
  },
  {
   "cell_type": "markdown",
   "metadata": {},
   "source": [
    "This gives us:"
   ]
  },
  {
   "cell_type": "markdown",
   "metadata": {
    "collapsed": false
   },
   "source": [
    "$$[PL] = \\frac{([Ltot]-[PL])([Ptot]-[PL])}{K_{d} }$$"
   ]
  },
  {
   "cell_type": "markdown",
   "metadata": {},
   "source": [
    "Solving this for 0 you get:"
   ]
  },
  {
   "cell_type": "markdown",
   "metadata": {
    "collapsed": false
   },
   "source": [
    "$$0 = [PL]^2 - [PL]([Ptot]+[Ltot]+K_{d}) + [Ptot][Ltot]$$"
   ]
  },
  {
   "cell_type": "markdown",
   "metadata": {},
   "source": [
    "Using the quadratic equation:"
   ]
  },
  {
   "cell_type": "markdown",
   "metadata": {
    "collapsed": false
   },
   "source": [
    "$$x = \\frac{-b \\pm \\sqrt{b^2 - 4ac}}{2a}$$"
   ]
  },
  {
   "cell_type": "markdown",
   "metadata": {},
   "source": [
    "where x is $[PL]$, a is 1, $-([Ptot]+[Ltot]+Kd)$ is b, and $[Ptot][Ltot]$ is c. We get as the only reasonable solution:"
   ]
  },
  {
   "cell_type": "markdown",
   "metadata": {},
   "source": [
    "$$[PL] = \\frac{([Ptot] + [Ltot] + K_{d}) - \\sqrt{([Ptot] + [Ltot] + K_{d})^2 - 4[Ptot][Ltot]}}{2}$$ "
   ]
  },
  {
   "cell_type": "markdown",
   "metadata": {},
   "source": [
    "In the presence of non-zero concentration of A -a strictly competitive ligand for the same binding site- titration curve will be shifted. Half maximum saturation point gives us apparent dissociation constant for L ( $K_{dL,app}$). This shift is dependent of $[A]$ and $K_{dA}$."
   ]
  },
  {
   "cell_type": "markdown",
   "metadata": {},
   "source": [
    "$$K_{dL,app} = K_{dL}(1+\\frac{[A]}{K_{dA}})$$ "
   ]
  },
  {
   "cell_type": "markdown",
   "metadata": {
    "collapsed": false
   },
   "source": [
    "$$[PL] = \\frac{([Ptot] + [Ltot] + K_{dL,app}) - \\sqrt{([Ptot] + [Ltot] + K_{dL,app})^2 - 4[Ptot][Ltot]}}{2}$$ "
   ]
  },
  {
   "cell_type": "code",
   "execution_count": 8,
   "metadata": {
    "collapsed": false
   },
   "outputs": [],
   "source": [
    "#Competitive binding function\n",
    "def three_component_competitive_binding(Ptot, Ltot, Kd_L, Atot, Kd_A):\n",
    "    \"\"\"\n",
    "    Parameters\n",
    "    ----------\n",
    "    Ptot : float\n",
    "        Total protein concentration\n",
    "    Ltot : float\n",
    "        Total tracer(fluorescent) ligand concentration\n",
    "    Kd_L : float\n",
    "        Dissociation constant\n",
    "    Atot : float\n",
    "        Total competitive ligand concentration\n",
    "    Kd_A : float\n",
    "        Dissociation constant\n",
    "        \n",
    "    Returns\n",
    "    -------\n",
    "    P : float\n",
    "        Free protein concentration\n",
    "    L : float\n",
    "        Free ligand concentration\n",
    "    A : float\n",
    "        Free ligand concentration\n",
    "    PL : float\n",
    "        Complex concentration\n",
    "    Kd_L_app : float\n",
    "        Apparent dissociation constant of L in the presence of A\n",
    "        \n",
    "    Usage\n",
    "    -----\n",
    "    [P, L, A, PL, Kd_L_app] = three_component_competitive_binding(Ptot, Ltot, Kd_L, Atot, Kd_A)\n",
    "    \"\"\"\n",
    "    Kd_L_app = Kd_L*(1+Atot/Kd_A)                                \n",
    "    PL = 0.5 * ((Ptot + Ltot + Kd_L_app) - np.sqrt((Ptot + Ltot + Kd_L_app)**2 - 4*Ptot*Ltot))  # complex concentration (uM)\n",
    "    P = Ptot - PL; # free protein concentration in sample cell after n injections (uM)                                                                                                                                                                                                                          \n",
    "    L = Ltot - PL; # free tracer ligand concentration in sample cell after n injections (uM)\n",
    "    A = Atot - PL; # free competitive ligand concentration in sample cell after n injections (uM)\n",
    "    return [P, L, A, PL, Kd_L_app]"
   ]
  },
  {
   "cell_type": "markdown",
   "metadata": {},
   "source": [
    "### Without competitive ligand"
   ]
  },
  {
   "cell_type": "code",
   "execution_count": 9,
   "metadata": {
    "collapsed": true
   },
   "outputs": [],
   "source": [
    "# If there is no competitive ligand \n",
    "Atot=0 #(uM)\n",
    "[P_A0, L_A0, A_A0, PL_A0, Kd_L_app_A0] = three_component_competitive_binding(Ptot, Ltot, Kd_L, Atot, Kd_A)"
   ]
  },
  {
   "cell_type": "code",
   "execution_count": 10,
   "metadata": {
    "collapsed": false
   },
   "outputs": [
    {
     "data": {
      "text/plain": [
       "<matplotlib.legend.Legend at 0x1091babd0>"
      ]
     },
     "execution_count": 10,
     "metadata": {},
     "output_type": "execute_result"
    },
    {
     "data": {
      "image/png": "[encoded data removed]",
      "text/plain": [
       "<matplotlib.figure.Figure at 0x1090527d0>"
      ]
     },
     "metadata": {},
     "output_type": "display_data"
    }
   ],
   "source": [
    "plt.semilogx(Ltot,PL_A0, 'o')\n",
    "plt.xlabel('Ltot')\n",
    "plt.ylabel('[PL]')\n",
    "plt.ylim(1e-3,6e-1)\n",
    "plt.axhline(Ptot,color='0.75',linestyle='--',label='[Ptot]')\n",
    "plt.axvline(Kd_L,color='k',linestyle='--',label='Kd_L')\n",
    "plt.axvline(Kd_L_app_A0,color='r',linestyle='--',label='Kd_L_app without A')\n",
    "plt.legend()"
   ]
  },
  {
   "cell_type": "markdown",
   "metadata": {},
   "source": [
    "### In the presence of 10 uM competitive ligand"
   ]
  },
  {
   "cell_type": "code",
   "execution_count": 11,
   "metadata": {
    "collapsed": false
   },
   "outputs": [],
   "source": [
    "# If we change competitor concentration \n",
    "Atot=10 #(uM)\n",
    "[P_A10, L_A10, A_A10, PL_A10, Kd_L_app_A10] = three_component_competitive_binding(Ptot, Ltot, Kd_L, Atot, Kd_A)"
   ]
  },
  {
   "cell_type": "code",
   "execution_count": 12,
   "metadata": {
    "collapsed": false
   },
   "outputs": [
    {
     "data": {
      "text/plain": [
       "<matplotlib.legend.Legend at 0x1097aa650>"
      ]
     },
     "execution_count": 12,
     "metadata": {},
     "output_type": "execute_result"
    },
    {
     "data": {
      "image/png": "[encoded data removed]",
      "text/plain": [
       "<matplotlib.figure.Figure at 0x109134b90>"
      ]
     },
     "metadata": {},
     "output_type": "display_data"
    }
   ],
   "source": [
    "#plt.subplot(1,2,1)\n",
    "plt.semilogx(Ltot,PL_A10, 'o')\n",
    "plt.xlabel('Ltot')\n",
    "plt.ylabel('[PL]')\n",
    "plt.ylim(1e-3,6e-1)\n",
    "plt.axhline(Ptot,color='0.75',linestyle='--',label='[Ptot]')\n",
    "plt.axvline(Kd_L,color='k',linestyle='--',label='Kd_L')\n",
    "plt.axvline(Kd_L_app_A10,color='r',linestyle='--',label='Kd_L_app with 10 uM A')\n",
    "plt.legend()"
   ]
  },
  {
   "cell_type": "markdown",
   "metadata": {},
   "source": [
    "### In the presence of 50 uM competitive ligand"
   ]
  },
  {
   "cell_type": "code",
   "execution_count": 13,
   "metadata": {
    "collapsed": false
   },
   "outputs": [],
   "source": [
    "# Competitor concentration \n",
    "Atot=50 #(uM)\n",
    "[P_A50, L_A50, A_A50, PL_A50, Kd_L_app_A50] = three_component_competitive_binding(Ptot, Ltot, Kd_L, Atot, Kd_A)"
   ]
  },
  {
   "cell_type": "code",
   "execution_count": 14,
   "metadata": {
    "collapsed": false
   },
   "outputs": [
    {
     "data": {
      "text/plain": [
       "<matplotlib.legend.Legend at 0x10a487bd0>"
      ]
     },
     "execution_count": 14,
     "metadata": {},
     "output_type": "execute_result"
    },
    {
     "data": {
      "image/png": "[encoded data removed]",
      "text/plain": [
       "<matplotlib.figure.Figure at 0x1090523d0>"
      ]
     },
     "metadata": {},
     "output_type": "display_data"
    }
   ],
   "source": [
    "# Plotting complex concentration [PL] as a function of fluorescent ligand concentration Ltot¶\n",
    "plt.semilogx(Ltot,PL_A50, 'o')\n",
    "plt.xlabel('Ltot')\n",
    "plt.ylabel('[PL]')\n",
    "plt.ylim(1e-3,6e-1)\n",
    "plt.axhline(Ptot,color='0.75',linestyle='--',label='[Ptot]')\n",
    "plt.axvline(Kd_L,color='k',linestyle='--',label='Kd_L')\n",
    "plt.axvline(Kd_L_app_A50,color='r',linestyle='--',label='Kd_L_app with 50 uM A')\n",
    "plt.legend()"
   ]
  },
  {
   "cell_type": "markdown",
   "metadata": {},
   "source": [
    "# Predicting experimental fluorescence signal of saturation binding experiment"
   ]
  },
  {
   "cell_type": "markdown",
   "metadata": {},
   "source": [
    "Molar fluorescence values based on dansyl amide."
   ]
  },
  {
   "cell_type": "code",
   "execution_count": 15,
   "metadata": {
    "collapsed": false
   },
   "outputs": [],
   "source": [
    "# Background fluorescence\n",
    "BKG = 86.2\n",
    "\n",
    "# Molar fluorescence of free ligand\n",
    "MF = 2.5\n",
    "\n",
    "# Molar fluorescence of ligand in complex\n",
    "FR = 306.1\n",
    "MFC = FR * MF"
   ]
  },
  {
   "cell_type": "markdown",
   "metadata": {},
   "source": [
    "### Fluorescent ligand (L) titration into buffer"
   ]
  },
  {
   "cell_type": "code",
   "execution_count": 16,
   "metadata": {
    "collapsed": false
   },
   "outputs": [
    {
     "data": {
      "text/plain": [
       "array([  2.00000000e+03,   7.02238347e+02,   2.46569348e+02,\n",
       "         8.65752256e+01,   3.03982217e+01,   1.06733985e+01,\n",
       "         3.74763485e+00,   1.31586645e+00,   4.62025940e-01,\n",
       "         1.62226166e-01,   5.69607174e-02,   2.00000000e-02])"
      ]
     },
     "execution_count": 16,
     "metadata": {},
     "output_type": "execute_result"
    }
   ],
   "source": [
    "Ltot"
   ]
  },
  {
   "cell_type": "code",
   "execution_count": 17,
   "metadata": {
    "collapsed": false
   },
   "outputs": [
    {
     "data": {
      "text/plain": [
       "array([ 5086.2       ,  1841.79586711,   702.62336972,   302.63806405,\n",
       "         162.19555415,   112.88349616,    95.56908711,    89.48966612,\n",
       "          87.35506485,    86.60556542,    86.34240179,    86.25      ])"
      ]
     },
     "execution_count": 17,
     "metadata": {},
     "output_type": "execute_result"
    }
   ],
   "source": [
    "# Fluorescence measurement of buffer + ligand L titrations\n",
    "L=Ltot\n",
    "Flu_buffer = MF*L + BKG\n",
    "Flu_buffer"
   ]
  },
  {
   "cell_type": "code",
   "execution_count": 18,
   "metadata": {
    "collapsed": false
   },
   "outputs": [
    {
     "data": {
      "text/plain": [
       "(50, 8000)"
      ]
     },
     "execution_count": 18,
     "metadata": {},
     "output_type": "execute_result"
    },
    {
     "data": {
      "image/png": "[encoded data removed]",
      "text/plain": [
       "<matplotlib.figure.Figure at 0x10a40f690>"
      ]
     },
     "metadata": {},
     "output_type": "display_data"
    }
   ],
   "source": [
    "# y will be complex concentration\n",
    "# x will be total ligand concentration\n",
    "plt.semilogx(Ltot,Flu_buffer,'o')\n",
    "plt.xlabel('[L]')\n",
    "plt.ylabel('Fluorescence')\n",
    "plt.ylim(50,8000)\n",
    "#plt.legend()"
   ]
  },
  {
   "cell_type": "markdown",
   "metadata": {},
   "source": [
    "### Fluorescent ligand titration into HSA (without competitive ligand)"
   ]
  },
  {
   "cell_type": "code",
   "execution_count": 19,
   "metadata": {
    "collapsed": true
   },
   "outputs": [],
   "source": [
    "Atot=0 #(uM)\n",
    "[P_A0, L_A0, A_A0, PL_A0, Kd_L_app_A0] = three_component_competitive_binding(Ptot, Ltot, Kd_L, Atot, Kd_A)"
   ]
  },
  {
   "cell_type": "code",
   "execution_count": 20,
   "metadata": {
    "collapsed": false
   },
   "outputs": [
    {
     "data": {
      "text/plain": [
       "array([ 5464.73528075,  2215.18951449,  1062.08849907,   627.45685606,\n",
       "         416.62792621,   269.63738774,   170.20461403,   119.40258614,\n",
       "          98.40411325,    90.55707746,    87.73894389,    86.74148303])"
      ]
     },
     "execution_count": 20,
     "metadata": {},
     "output_type": "execute_result"
    }
   ],
   "source": [
    "# Free ligand concentration in each well (uM)\n",
    "L=L_A0\n",
    "#complex concentration\n",
    "PL=PL_A0\n",
    "# Fluorescence measurement of the HSA + ligand measurements\n",
    "Flu_HSA = MF*L + BKG + FR*MF*PL\n",
    "Flu_HSA"
   ]
  },
  {
   "cell_type": "code",
   "execution_count": 21,
   "metadata": {
    "collapsed": false
   },
   "outputs": [
    {
     "data": {
      "text/plain": [
       "<matplotlib.legend.Legend at 0x10b444f90>"
      ]
     },
     "execution_count": 21,
     "metadata": {},
     "output_type": "execute_result"
    },
    {
     "data": {
      "image/png": "[encoded data removed]",
      "text/plain": [
       "<matplotlib.figure.Figure at 0x10b056d90>"
      ]
     },
     "metadata": {},
     "output_type": "display_data"
    }
   ],
   "source": [
    "plt.semilogx(Ltot,Flu_buffer,'o',label='buffer')\n",
    "plt.semilogx(Ltot, Flu_HSA ,'o', label='protein')\n",
    "plt.xlabel('[L_tot]')\n",
    "plt.ylabel('Fluorescence')\n",
    "plt.ylim(50,8000)\n",
    "plt.legend(bbox_to_anchor=(1.05, 1), loc=2, borderaxespad=0.)"
   ]
  },
  {
   "cell_type": "code",
   "execution_count": 23,
   "metadata": {
    "collapsed": false
   },
   "outputs": [
    {
     "data": {
      "text/plain": [
       "<matplotlib.legend.Legend at 0x10b692990>"
      ]
     },
     "execution_count": 23,
     "metadata": {},
     "output_type": "execute_result"
    },
    {
     "data": {
      "image/png": "[encoded data removed]",
      "text/plain": [
       "<matplotlib.figure.Figure at 0x109052f10>"
      ]
     },
     "metadata": {},
     "output_type": "display_data"
    }
   ],
   "source": [
    "plt.semilogx(Ltot,(Flu_HSA-Flu_buffer),'.', label=\"difference in fluorescence signal\")\n",
    "plt.xlabel('[L_tot]')\n",
    "plt.ylabel('Flu_HSA-Flu_buffer')\n",
    "plt.ylim(0,500)\n",
    "plt.legend(bbox_to_anchor=(1.05, 1), loc=2, borderaxespad=0.)"
   ]
  },
  {
   "cell_type": "markdown",
   "metadata": {},
   "source": [
    "#### Checking ligand depletion"
   ]
  },
  {
   "cell_type": "code",
   "execution_count": 38,
   "metadata": {
    "collapsed": false
   },
   "outputs": [
    {
     "data": {
      "text/plain": [
       "<matplotlib.legend.Legend at 0x10ee69d50>"
      ]
     },
     "execution_count": 38,
     "metadata": {},
     "output_type": "execute_result"
    },
    {
     "data": {
      "image/png": "[encoded data removed]",
      "text/plain": [
       "<matplotlib.figure.Figure at 0x1097be7d0>"
      ]
     },
     "metadata": {},
     "output_type": "display_data"
    }
   ],
   "source": [
    "L_percent_depletion=(Ltot-L_A0)*100\n",
    "plt.semilogx(Ltot,L_percent_depletion,'.',label='L')\n",
    "plt.xlabel('[L_tot]')\n",
    "plt.ylabel('% ligand depletion')\n",
    "plt.ylim(0,100)\n",
    "plt.legend(bbox_to_anchor=(1.05, 1), loc=2, borderaxespad=0.)"
   ]
  },
  {
   "cell_type": "markdown",
   "metadata": {
    "collapsed": false
   },
   "source": [
    "### Fluorescent ligand titration into HSA (with 10 uM competitive ligand)"
   ]
  },
  {
   "cell_type": "code",
   "execution_count": 25,
   "metadata": {
    "collapsed": false
   },
   "outputs": [],
   "source": [
    "Atot=10 #(uM)\n",
    "[P_A10, L_A10, A_A10, PL_A10, Kd_L_app_A10] = three_component_competitive_binding(Ptot, Ltot, Kd_L, Atot, Kd_A)"
   ]
  },
  {
   "cell_type": "code",
   "execution_count": 26,
   "metadata": {
    "collapsed": false
   },
   "outputs": [],
   "source": [
    "# Free ligand concentration in each well (uM)\n",
    "L=L_A10\n",
    "#complex concentration\n",
    "PL=PL_A10\n",
    "# Fluorescence measurement of the HSA + ligand measurements\n",
    "Flu_HSA = MF*L + BKG + FR*MF*PL"
   ]
  },
  {
   "cell_type": "code",
   "execution_count": 27,
   "metadata": {
    "collapsed": false
   },
   "outputs": [
    {
     "data": {
      "text/plain": [
       "<matplotlib.legend.Legend at 0x10bd4ebd0>"
      ]
     },
     "execution_count": 27,
     "metadata": {},
     "output_type": "execute_result"
    },
    {
     "data": {
      "image/png": "[encoded data removed]",
      "text/plain": [
       "<matplotlib.figure.Figure at 0x10b2b5410>"
      ]
     },
     "metadata": {},
     "output_type": "display_data"
    }
   ],
   "source": [
    "plt.semilogx(Ltot,Flu_buffer,'o',label='buffer')\n",
    "plt.semilogx(Ltot, Flu_HSA ,'o', label='protein')\n",
    "plt.xlabel('[L_tot]')\n",
    "plt.ylabel('Fluorescence')\n",
    "plt.ylim(50,8000)\n",
    "plt.legend(bbox_to_anchor=(1.05, 1), loc=2, borderaxespad=0.)"
   ]
  },
  {
   "cell_type": "code",
   "execution_count": 29,
   "metadata": {
    "collapsed": false
   },
   "outputs": [
    {
     "data": {
      "text/plain": [
       "<matplotlib.legend.Legend at 0x10c595d10>"
      ]
     },
     "execution_count": 29,
     "metadata": {},
     "output_type": "execute_result"
    },
    {
     "data": {
      "image/png": "[encoded data removed]",
      "text/plain": [
       "<matplotlib.figure.Figure at 0x10b1b7b50>"
      ]
     },
     "metadata": {},
     "output_type": "display_data"
    }
   ],
   "source": [
    "plt.semilogx(Ltot,(Flu_HSA-Flu_buffer),'.',label='difference in fluorescence signal')\n",
    "plt.xlabel('[L_tot]')\n",
    "plt.ylabel('Flu_HSA-Flu_buffer')\n",
    "plt.ylim(0,500)\n",
    "plt.legend(bbox_to_anchor=(1.05, 1), loc=2, borderaxespad=0.)"
   ]
  },
  {
   "cell_type": "markdown",
   "metadata": {},
   "source": [
    "### Fluorescent ligand titration into HSA (with 50 uM competitive ligand)"
   ]
  },
  {
   "cell_type": "code",
   "execution_count": 30,
   "metadata": {
    "collapsed": true
   },
   "outputs": [],
   "source": [
    "Atot=50 #(uM)\n",
    "[P_A50, L_A50, A_A50, PL_A50, Kd_L_app_A50] = three_component_competitive_binding(Ptot, Ltot, Kd_L, Atot, Kd_A)"
   ]
  },
  {
   "cell_type": "code",
   "execution_count": 31,
   "metadata": {
    "collapsed": true
   },
   "outputs": [],
   "source": [
    "# Free ligand concentration in each well (uM)\n",
    "L=L_A50\n",
    "#complex concentration\n",
    "PL=PL_A50\n",
    "# Fluorescence measurement of the HSA + ligand measurements\n",
    "Flu_HSA = MF*L + BKG + FR*MF*PL"
   ]
  },
  {
   "cell_type": "code",
   "execution_count": 32,
   "metadata": {
    "collapsed": false
   },
   "outputs": [
    {
     "data": {
      "text/plain": [
       "<matplotlib.legend.Legend at 0x10c823d50>"
      ]
     },
     "execution_count": 32,
     "metadata": {},
     "output_type": "execute_result"
    },
    {
     "data": {
      "image/png": "[encoded data removed]",
      "text/plain": [
       "<matplotlib.figure.Figure at 0x10a4612d0>"
      ]
     },
     "metadata": {},
     "output_type": "display_data"
    }
   ],
   "source": [
    "plt.semilogx(Ltot,Flu_buffer,'o',label='buffer')\n",
    "plt.semilogx(Ltot, Flu_HSA ,'o', label='protein')\n",
    "plt.xlabel('[L_tot]')\n",
    "plt.ylabel('Fluorescence')\n",
    "plt.ylim(50,8000)\n",
    "plt.legend(bbox_to_anchor=(1.05, 1), loc=2, borderaxespad=0.)"
   ]
  },
  {
   "cell_type": "code",
   "execution_count": 33,
   "metadata": {
    "collapsed": false
   },
   "outputs": [
    {
     "data": {
      "text/plain": [
       "<matplotlib.legend.Legend at 0x10ccc1f10>"
      ]
     },
     "execution_count": 33,
     "metadata": {},
     "output_type": "execute_result"
    },
    {
     "data": {
      "image/png": "[encoded data removed]",
      "text/plain": [
       "<matplotlib.figure.Figure at 0x109157a50>"
      ]
     },
     "metadata": {},
     "output_type": "display_data"
    }
   ],
   "source": [
    "plt.semilogx(Ltot,(Flu_HSA-Flu_buffer),'.',label='difference in fluorescence signal')\n",
    "plt.xlabel('[L_tot]')\n",
    "plt.ylabel('Flu_HSA-Flu_buffer')\n",
    "plt.ylim(0,500)\n",
    "plt.legend(bbox_to_anchor=(1.05, 1), loc=2, borderaxespad=0.)"
   ]
  },
  {
   "cell_type": "markdown",
   "metadata": {
    "collapsed": true
   },
   "source": [
    "#### Checking ligand depletion"
   ]
  },
  {
   "cell_type": "code",
   "execution_count": 37,
   "metadata": {
    "collapsed": false
   },
   "outputs": [
    {
     "data": {
      "text/plain": [
       "<matplotlib.legend.Legend at 0x10ead08d0>"
      ]
     },
     "execution_count": 37,
     "metadata": {},
     "output_type": "execute_result"
    },
    {
     "data": {
      "image/png": "[encoded data removed]",
      "text/plain": [
       "<matplotlib.figure.Figure at 0x10a7aa390>"
      ]
     },
     "metadata": {},
     "output_type": "display_data"
    }
   ],
   "source": [
    "L_percent_depletion=(Ltot-L_A50)*100\n",
    "plt.semilogx(Ltot,L_percent_depletion,'.',label='L')\n",
    "plt.xlabel('[L_tot]')\n",
    "plt.ylabel('% ligand depletion')\n",
    "plt.ylim(0,100)\n",
    "plt.legend(bbox_to_anchor=(1.05, 1), loc=2, borderaxespad=0.)"
   ]
  },
  {
   "cell_type": "code",
   "execution_count": null,
   "metadata": {
    "collapsed": true
   },
   "outputs": [],
   "source": []
  },
  {
   "cell_type": "code",
   "execution_count": null,
   "metadata": {
    "collapsed": true
   },
   "outputs": [],
   "source": []
  },
  {
   "cell_type": "code",
   "execution_count": null,
   "metadata": {
    "collapsed": true
   },
   "outputs": [],
   "source": []
  }
 ],
 "metadata": {
  "kernelspec": {
   "display_name": "Python 2",
   "language": "python",
   "name": "python2"
  },
  "language_info": {
   "codemirror_mode": {
    "name": "ipython",
    "version": 2
   },
   "file_extension": ".py",
   "mimetype": "text/x-python",
   "name": "python",
   "nbconvert_exporter": "python",
   "pygments_lexer": "ipython2",
   "version": "2.7.10"
  }
 },
 "nbformat": 4,
 "nbformat_minor": 0
}
