{
 "cells": [
  {
   "cell_type": "markdown",
   "metadata": {},
   "source": [
    "##Calculation of Equilibrium Concentrations in Competitive Binding Experiment\n",
    "\n",
    "This notebook uses analytical solution of equilibrium expressions for 2 ligands competing for 1 population of protein binding sites.\n",
    "\n",
    "Calculations are based on \n",
    "Wang, Z. X. An exact mathematical expression for describing\n",
    "competitive binding of two different ligands to a protein molecule. FEBS\n",
    "Lett. 1995, 360, 111−114. [doi:10.1016/0014-5793(95)00062-E](http://www.sciencedirect.com/science/article/pii/001457939500062E) \n",
    "\n",
    "\n",
    "We will model binding of two ligands, fluorescent ligand (A) and non-fluorescent ligand (B), to protein (P). "
   ]
  },
  {
   "cell_type": "code",
   "execution_count": 1,
   "metadata": {
    "collapsed": false
   },
   "outputs": [
    {
     "name": "stdout",
     "output_type": "stream",
     "text": [
      "Populating the interactive namespace from numpy and matplotlib\n"
     ]
    }
   ],
   "source": [
    "import matplotlib.pyplot as plt\n",
    "import numpy as np\n",
    "import seaborn as sns\n",
    "from IPython.display import display, Math, Latex #Do we even need this anymore?\n",
    "%pylab inline"
   ]
  },
  {
   "cell_type": "markdown",
   "metadata": {},
   "source": [
    "### Strictly Competitive Binding Model"
   ]
  },
  {
   "cell_type": "markdown",
   "metadata": {
    "collapsed": true
   },
   "source": [
    "$ {K_A} $ and $ {K_A} $ are dissociation constants of A and B, binding to P.  "
   ]
  },
  {
   "cell_type": "markdown",
   "metadata": {},
   "source": [
    "$$PA {\\stackrel{K_A}{\\rightleftharpoons}}  A + B $$\n",
    "\n",
    "$$PB {\\stackrel{K_B}{\\rightleftharpoons}} B + P$$"
   ]
  },
  {
   "cell_type": "markdown",
   "metadata": {},
   "source": [
    "$$ K_A = \\frac{[P][A]}{[PA]} $$ $$ K_B = \\frac{[P][B]}{[PB]} $$"
   ]
  },
  {
   "cell_type": "markdown",
   "metadata": {},
   "source": [
    "$[A]_0$, $[B]_0$ and $[P]_0$ are total concentrations of A, B and P. $[A]$, $[B]$ and $[P]$ are the free concentrations. Conservation of mass:\n",
    "$$[A]_0 = [A]+[PA]$$\n",
    "$$[B]_0 = [A]+[PB]$$\n",
    "$$[P]_0 = [P]+[PA]+[PB]$$"
   ]
  },
  {
   "cell_type": "markdown",
   "metadata": {},
   "source": [
    "Combining with equilibrium expressions:\n",
    "$$ K_A = \\frac{[P][A]_0 - [PA]}{[PA]} $$ $$ K_B = \\frac{[P]([B]_0-[PB])}{[PB]} $$\n",
    "Reorganize to get [PA] and [PB].\n",
    "$$ [PA] = \\frac{[P][A]_0}{K_A+[P]} $$ $$ [PB] = \\frac{[P][B]_0}{K_B+[P]} $$"
   ]
  },
  {
   "cell_type": "markdown",
   "metadata": {},
   "source": [
    "$$ [P]_0 = [P] + \\frac{[P][A]_0}{K_A+[P]} + \\frac{[P][B]_0}{K_B+[P]} $$"
   ]
  },
  {
   "cell_type": "markdown",
   "metadata": {},
   "source": [
    "Expanding results:\n",
    "$ 0 = [P]^3 + K_A[P]^2+ K_B[P]^2 + [A]_0[P]^2 + [B]_0[P]^2 - [P]_0[P]^2 +K_AK_B[P] +[A]_0K_B[P] +[B]_0K_A[P] - K_A[P]_0[P]-K_B[P]_0[P]-K_AK_B[P]_0$\n",
    "\n",
    "$ 0 = [P]^3 + a[P]^2 + b[P] +c  $\n",
    "\n",
    "$ a = K_A+ K_B + [A]_0 + [B]_0 - [P]_0 $\n",
    "\n",
    "$ b = K_AK_B +K_B([A]_0-[P]_0) +K_B([B]_0 - [P]_0) $\n",
    "\n",
    "$ c = - K_AK_B[P]_0$"
   ]
  },
  {
   "cell_type": "markdown",
   "metadata": {},
   "source": [
    "Substituting $ [P] = u - \\frac{a}{3} $, gives us:\n",
    "\n",
    "$ u^3 -qu - r =0 $\n",
    "\n",
    "$ q=\\frac{a^2}{3}-b $\n",
    "\n",
    "$ r = \\frac{-2}{27}a^3+\\frac{1}{3}ab-c$\n",
    "\n",
    "Discriminant:\n",
    "$ \\Delta = \\frac{r^2}{4} - \\frac{q^3}{27}$ \n",
    "\n",
    "Since $ \\Delta < 0$, there are 3 real roots. \n",
    "Only physically meaningful root is $ u = \\frac{2}{3}\\sqrt{a^2-3b}\\cos(\\frac{\\theta}{3})$, where $\\theta=\\arccos{\\frac{-2a^3+9ab-27c}{2\\sqrt{(a^2-3b)^3}}}$\n"
   ]
  },
  {
   "cell_type": "markdown",
   "metadata": {},
   "source": [
    "Then we can calculate equilibrium concentrations of species.\n",
    "\n",
    "$$ [P]= u -\\frac{a}{3} = -\\frac{a}{3} + \\frac{2}{3}\\sqrt{a^2-3b}\\cos(\\frac{\\theta}{3}) $$\n",
    "\n",
    "$$ [PA] = \\frac{[P][A]_0}{K_A+[P]} = \\frac{[A]_0(2\\sqrt{a^2-3b}\\cos(\\frac{\\theta}{3})-a)}{3K_A+(2\\sqrt{a^2-3b}\\cos(\\frac{\\theta}{3})-a)} $$ \n",
    "\n",
    "$$ [PB] = \\frac{[P][B]_0}{K_B+[P]} = \\frac{[B]_0(2\\sqrt{a^2-3b}\\cos(\\frac{\\theta}{3})-a)}{3K_B+(2\\sqrt{a^2-3b}\\cos(\\frac{\\theta}{3})-a)} $$\n",
    "\n",
    "$$[A] = [A]_0-[PA] $$\n",
    "$$[B] = [B]_0-[PB]$$"
   ]
  },
  {
   "cell_type": "code",
   "execution_count": 2,
   "metadata": {
    "collapsed": false
   },
   "outputs": [],
   "source": [
    "#Competitive binding function\n",
    "def three_component_competitive_binding_exact(Ptot, Atot, K_A, Btot, K_B):\n",
    "    \"\"\"\n",
    "    Parameters\n",
    "    ----------\n",
    "    Ptot : float\n",
    "        Total protein concentration\n",
    "    Atot : float\n",
    "        Total tracer(fluorescent) ligand concentration\n",
    "    K_A : float\n",
    "        Dissociation constant of A\n",
    "    Btot : float\n",
    "        Total competitive ligand concentration\n",
    "    K_B : float\n",
    "        Dissociation constant of B\n",
    "        \n",
    "    Returns\n",
    "    -------\n",
    "    P : float\n",
    "        Free protein concentration\n",
    "    A : float\n",
    "        Free ligand concentration\n",
    "    B : float\n",
    "        Free ligand concentration\n",
    "    PA : float\n",
    "        Concentration of PA complex\n",
    "    PB : float\n",
    "        Concentration of PB complex\n",
    "        \n",
    "    Usage\n",
    "    -----\n",
    "    [P, A, B, PA, PB] = three_component_competitive_binding(Ptot, Atot, K_A, Btot, K_B)\n",
    "    \"\"\"\n",
    "    \n",
    "    # P^3 + aP^2 + bP + c = 0\n",
    "    a = K_A + K_B + Atot + Btot - Ptot\n",
    "    b = K_A*K_B + K_B*(Atot-Ptot) + K_B*(Btot - Ptot)\n",
    "    c = -K_A*K_B*Ptot\n",
    "    \n",
    "    # Subsitute P=u-a/3\n",
    "    # u^3 - qu - r = 0 where \n",
    "    q = (a**2)/3.0 - b\n",
    "    r = (-2.0/27.0)*a**3 +(1.0/3.0)*a*b - c\n",
    "    \n",
    "    # Discriminant\n",
    "    delta = (r**2)/4.0 -(q**3)/27.0\n",
    "    \n",
    "    # 3 roots. Physically meaningful root is u.\n",
    "    theta = np.arccos((-2*(a**3)+9*a*b-27*c)/(2*sqrt((a**2-3*b)**3)))\n",
    "    u = (2.0/3.0)*sqrt(a**2-3*b)*cos(theta/3.0)\n",
    "    \n",
    "    # Free protein concentration [P]\n",
    "    P = u - a/3.0\n",
    "    \n",
    "    # [PA]\n",
    "    PA = P*Atot/(K_A + P)\n",
    "    \n",
    "    # [PB]\n",
    "    PB = P*Btot/(K_B + P)\n",
    "    \n",
    "    # Free A concentration [A]\n",
    "    A = Atot - PA\n",
    "    \n",
    "    # Free B concentration [B]\n",
    "    B = Btot - PB\n",
    "    \n",
    "    # Apparent Kd of A (shift caused by competitive ligand)\n",
    "    # K_A_app = K_A*(1+B/K_B)\n",
    "    \n",
    "    return [P, A, B, PA, PB]"
   ]
  },
  {
   "cell_type": "markdown",
   "metadata": {},
   "source": [
    "#### For one set of conditions"
   ]
  },
  {
   "cell_type": "code",
   "execution_count": 3,
   "metadata": {
    "collapsed": false
   },
   "outputs": [
    {
     "data": {
      "text/plain": [
       "[0.028199122591431092,\n",
       " 199.62471720847722,\n",
       " 49.636440501118621,\n",
       " 0.37528279152277422,\n",
       " 0.36355949888138162]"
      ]
     },
     "execution_count": 3,
     "metadata": {},
     "output_type": "execute_result"
    }
   ],
   "source": [
    "# Initial total concentrations of P, A and B (uM)\n",
    "Ptot=0.5\n",
    "Atot=200\n",
    "Btot=50\n",
    "\n",
    "# Dissociation constant for fluorescent ligand A: K_A (uM)\n",
    "K_A=15\n",
    "\n",
    "# Dissociation constant for non-fluorescent ligand B: K_B (uM)\n",
    "K_B=3.85\n",
    "\n",
    "[P, A, B, PA, PB] = three_component_competitive_binding_exact(Ptot, Atot, K_A, Btot, K_B)\n",
    "[P, A, B, PA, PB]"
   ]
  },
  {
   "cell_type": "markdown",
   "metadata": {
    "collapsed": true
   },
   "source": [
    "### Modelling the competition experiment - Expected Binding Curve\n"
   ]
  },
  {
   "cell_type": "markdown",
   "metadata": {},
   "source": [
    "Ideally protein concentration should be 10 fold lower then Kd. It must be at least hafl of Kd if fluorescence detection requires higher protein concentration.\n",
    "\n",
    "For our assay it will be 0.5 uM."
   ]
  },
  {
   "cell_type": "markdown",
   "metadata": {},
   "source": [
    "Ideally ligand concentation should span 100-fold Kd to 0.01-fold Kd, log dilution.\n",
    "\n",
    "The ligand concentration will be in half log dilution from 20 uM ligand."
   ]
  },
  {
   "cell_type": "code",
   "execution_count": 4,
   "metadata": {
    "collapsed": false
   },
   "outputs": [
    {
     "data": {
      "text/plain": [
       "array([  2.00000000e+03,   7.02238347e+02,   2.46569348e+02,\n",
       "         8.65752256e+01,   3.03982217e+01,   1.06733985e+01,\n",
       "         3.74763485e+00,   1.31586645e+00,   4.62025940e-01,\n",
       "         1.62226166e-01,   5.69607174e-02,   2.00000000e-02])"
      ]
     },
     "execution_count": 4,
     "metadata": {},
     "output_type": "execute_result"
    }
   ],
   "source": [
    "# Dilution series for fluorescent ligand A\n",
    "\n",
    "# Number of wells in a dilution series\n",
    "num_wells = 12.0\n",
    "\n",
    "# (uM)\n",
    "Amax = 2000\n",
    "Amin = 0.02\n",
    "\n",
    "# Factor for logarithmic dilution (n)\n",
    "# Amax*((1/n)^(11)) = Amin for 12 wells\n",
    "n = (Amax/Amin)**(1/(num_wells-1))\n",
    "\n",
    "# Fluorescent-ligand titration series (uM)\n",
    "Atot = Amax / np.array([n**(float(i)) for i in range(12)])\n",
    "Atot"
   ]
  },
  {
   "cell_type": "code",
   "execution_count": 5,
   "metadata": {
    "collapsed": true
   },
   "outputs": [],
   "source": [
    "# Dissociation constant for non-fluorescent ligand A: K_dA (uM)\n",
    "K_A = 15\n",
    "\n",
    "# Dissociation constant for non-fluorescent ligand B: K_B (uM)\n",
    "K_B=3.85"
   ]
  },
  {
   "cell_type": "markdown",
   "metadata": {},
   "source": [
    "### Without competitive ligand"
   ]
  },
  {
   "cell_type": "code",
   "execution_count": 6,
   "metadata": {
    "collapsed": false
   },
   "outputs": [],
   "source": [
    "\n",
    "# Constant concentration of B that will be added to all wells (uM)\n",
    "# If there is no competitive ligand \n",
    "Btot= 0\n",
    "[P_B0, A_B0, B_B0, PA_B0, PB_B0] = three_component_competitive_binding_exact(Ptot, Atot, K_A, Btot, K_B)\n",
    "\n",
    "# If B concentration is 10 uM\n",
    "Btot= 10\n",
    "[P_B10, A_B10, B_B10, PA_B10, PB_B10] = three_component_competitive_binding_exact(Ptot, Atot, K_A, Btot, K_B)\n",
    "\n",
    "# If B concentration is 50 uM\n",
    "Btot= 50\n",
    "[P_B50, A_B50, B_B50, PA_B50, PB_B50] = three_component_competitive_binding_exact(Ptot, Atot, K_A, Btot, K_B)"
   ]
  },
  {
   "cell_type": "code",
   "execution_count": 7,
   "metadata": {
    "collapsed": false
   },
   "outputs": [
    {
     "data": {
      "text/plain": [
       "<matplotlib.legend.Legend at 0x1037a2090>"
      ]
     },
     "execution_count": 7,
     "metadata": {},
     "output_type": "execute_result"
    },
    {
     "data": {
      "image/png": "[encoded data removed]",
      "text/plain": [
       "<matplotlib.figure.Figure at 0x1044269d0>"
      ]
     },
     "metadata": {},
     "output_type": "display_data"
    }
   ],
   "source": [
    "plt.semilogx(Atot,PA_B0, 'o', label='[Btot]=0 uM')\n",
    "plt.semilogx(Atot,PA_B10, 'o', label='[Btot]=10 uM')\n",
    "plt.semilogx(Atot,PA_B50, 'o', label='[Btot]=50 uM')\n",
    "plt.xlabel('Atot')\n",
    "plt.ylabel('[PA]')\n",
    "plt.ylim(1e-3,6e-1)\n",
    "plt.xlim(1e-2,1e+4)\n",
    "plt.axhline(Ptot,color='0.75',linestyle='--',label='[Ptot]')\n",
    "plt.axvline(K_A,color='k',linestyle='--',label='K_A')\n",
    "plt.legend(bbox_to_anchor=(0., 1.02, 1., .102), loc=3,\n",
    "           ncol=2, mode=\"expand\", borderaxespad=0.)\n"
   ]
  },
  {
   "cell_type": "markdown",
   "metadata": {},
   "source": [
    "##Predicting experimental fluorescence signal of saturation binding experiment"
   ]
  },
  {
   "cell_type": "markdown",
   "metadata": {},
   "source": [
    "Molar fluorescence values based on dansyl amide."
   ]
  },
  {
   "cell_type": "code",
   "execution_count": 8,
   "metadata": {
    "collapsed": false
   },
   "outputs": [],
   "source": [
    "# Background fluorescence\n",
    "BKG = 86.2\n",
    "\n",
    "# Molar fluorescence of free ligand\n",
    "MF = 2.5\n",
    "\n",
    "# Molar fluorescence of ligand in complex\n",
    "FR = 306.1\n",
    "MFC = FR * MF"
   ]
  },
  {
   "cell_type": "markdown",
   "metadata": {},
   "source": [
    "### Fluorescent ligand (L) titration into buffer"
   ]
  },
  {
   "cell_type": "code",
   "execution_count": 9,
   "metadata": {
    "collapsed": false
   },
   "outputs": [
    {
     "data": {
      "text/plain": [
       "array([  2.00000000e+03,   7.02238347e+02,   2.46569348e+02,\n",
       "         8.65752256e+01,   3.03982217e+01,   1.06733985e+01,\n",
       "         3.74763485e+00,   1.31586645e+00,   4.62025940e-01,\n",
       "         1.62226166e-01,   5.69607174e-02,   2.00000000e-02])"
      ]
     },
     "execution_count": 9,
     "metadata": {},
     "output_type": "execute_result"
    }
   ],
   "source": [
    "Atot"
   ]
  },
  {
   "cell_type": "code",
   "execution_count": 10,
   "metadata": {
    "collapsed": false
   },
   "outputs": [
    {
     "data": {
      "text/plain": [
       "array([ 5086.2       ,  1841.79586711,   702.62336972,   302.63806405,\n",
       "         162.19555415,   112.88349616,    95.56908711,    89.48966612,\n",
       "          87.35506485,    86.60556542,    86.34240179,    86.25      ])"
      ]
     },
     "execution_count": 10,
     "metadata": {},
     "output_type": "execute_result"
    }
   ],
   "source": [
    "# Fluorescence measurement of buffer + ligand L titrations\n",
    "A=Atot\n",
    "Flu_buffer = MF*A + BKG\n",
    "Flu_buffer"
   ]
  },
  {
   "cell_type": "code",
   "execution_count": 11,
   "metadata": {
    "collapsed": false
   },
   "outputs": [
    {
     "data": {
      "text/plain": [
       "(50, 6000)"
      ]
     },
     "execution_count": 11,
     "metadata": {},
     "output_type": "execute_result"
    },
    {
     "data": {
      "image/png": "[encoded data removed]",
      "text/plain": [
       "<matplotlib.figure.Figure at 0x108fc2810>"
      ]
     },
     "metadata": {},
     "output_type": "display_data"
    }
   ],
   "source": [
    "# y will be complex concentration\n",
    "# x will be total ligand concentration\n",
    "plt.semilogx(Atot,Flu_buffer,'o')\n",
    "plt.xlabel('[A]')\n",
    "plt.ylabel('Fluorescence')\n",
    "plt.ylim(50,6000)"
   ]
  },
  {
   "cell_type": "markdown",
   "metadata": {},
   "source": [
    "### Fluorescent ligand titration into protein (HSA) "
   ]
  },
  {
   "cell_type": "code",
   "execution_count": 12,
   "metadata": {
    "collapsed": false
   },
   "outputs": [],
   "source": [
    "# Fluorescence measurement of the HSA + A serial dilution + 0 uM B\n",
    "Flu_HSA_B0 = MF*A_B0 + BKG + FR*MF*PA_B0\n",
    "\n",
    "# Fluorescence measurement of the HSA + A serial dilution + 10 uM B\n",
    "Flu_HSA_B10 = MF*A_B10 + BKG + FR*MF*PA_B10\n",
    "\n",
    "# Fluorescence measurement of the HSA + A serial dilution + 50 uM B\n",
    "Flu_HSA_B50 = MF*A_B50 + BKG + FR*MF*PA_B50"
   ]
  },
  {
   "cell_type": "code",
   "execution_count": 13,
   "metadata": {
    "collapsed": false
   },
   "outputs": [
    {
     "data": {
      "text/plain": [
       "<matplotlib.legend.Legend at 0x1098069d0>"
      ]
     },
     "execution_count": 13,
     "metadata": {},
     "output_type": "execute_result"
    },
    {
     "data": {
      "image/png": "[encoded data removed]",
      "text/plain": [
       "<matplotlib.figure.Figure at 0x1090538d0>"
      ]
     },
     "metadata": {},
     "output_type": "display_data"
    }
   ],
   "source": [
    "plt.semilogx(Atot,Flu_buffer,'.',label='buffer + titration of A  ')\n",
    "plt.semilogx(Atot, Flu_HSA_B0 ,'.', label='HSA + titration of A')\n",
    "plt.semilogx(Atot, Flu_HSA_B10 ,'.', label='HSA + titration of A + 10 uM B ')\n",
    "plt.semilogx(Atot, Flu_HSA_B50 ,'.', label='HSA + titration of A + 50 uM B')\n",
    "plt.xlabel('[A_tot]')\n",
    "plt.ylabel('Fluorescence')\n",
    "plt.ylim(50,6000)\n",
    "plt.legend(bbox_to_anchor=(1.05, 1), loc=2, borderaxespad=0.)"
   ]
  },
  {
   "cell_type": "markdown",
   "metadata": {},
   "source": [
    "#### Checking ligand depletion"
   ]
  },
  {
   "cell_type": "code",
   "execution_count": 14,
   "metadata": {
    "collapsed": false
   },
   "outputs": [
    {
     "data": {
      "text/plain": [
       "<matplotlib.legend.Legend at 0x109ee4a50>"
      ]
     },
     "execution_count": 14,
     "metadata": {},
     "output_type": "execute_result"
    },
    {
     "data": {
      "image/png": "[encoded data removed]",
      "text/plain": [
       "<matplotlib.figure.Figure at 0x109cd8e90>"
      ]
     },
     "metadata": {},
     "output_type": "display_data"
    }
   ],
   "source": [
    "A_percent_depletion_B0=((Atot-A_B0)/Atot)*100\n",
    "plt.semilogx(Atot,A_percent_depletion_B0,'.',label='A_B0')\n",
    "             \n",
    "A_percent_depletion_B50=((Atot-A_B50)/Atot)*100\n",
    "plt.semilogx(Atot,A_percent_depletion_B50,'.',label='A_B50') \n",
    "\n",
    "Btot=50\n",
    "B_percent_depletion_B50=((Btot-B_B50)/Btot)*100\n",
    "plt.semilogx(Atot,B_percent_depletion_B50,'.',label='B_B50') \n",
    "\n",
    "plt.xlabel('[A_tot]')\n",
    "plt.ylabel('% ligand depletion')\n",
    "plt.ylim(-0,50)\n",
    "plt.legend(bbox_to_anchor=(1.05, 1), loc=2, borderaxespad=0.)"
   ]
  },
  {
   "cell_type": "code",
   "execution_count": null,
   "metadata": {
    "collapsed": true
   },
   "outputs": [],
   "source": []
  }
 ],
 "metadata": {
  "kernelspec": {
   "display_name": "Python 2",
   "language": "python",
   "name": "python2"
  },
  "language_info": {
   "codemirror_mode": {
    "name": "ipython",
    "version": 2
   },
   "file_extension": ".py",
   "mimetype": "text/x-python",
   "name": "python",
   "nbconvert_exporter": "python",
   "pygments_lexer": "ipython2",
   "version": "2.7.10"
  }
 },
 "nbformat": 4,
 "nbformat_minor": 0
}
