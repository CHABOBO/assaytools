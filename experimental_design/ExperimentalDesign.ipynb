{
 "cells": [
  {
   "cell_type": "code",
   "execution_count": 1,
   "metadata": {
    "collapsed": false,
    "deletable": true,
    "editable": true
   },
   "outputs": [],
   "source": [
    "import cPickle\n",
    "import numpy as np\n",
    "import matplotlib.pyplot as plt\n",
    "%matplotlib inline\n",
    "\n",
    "from pymbar import timeseries\n",
    "from assaytools import pymcmodels\n",
    "from assaytools.bindingmodels import TwoComponentBindingModel\n",
    "\n",
    "from assay_simulator import AssaySimulator "
   ]
  },
  {
   "cell_type": "markdown",
   "metadata": {},
   "source": [
    "## Example data"
   ]
  },
  {
   "cell_type": "code",
   "execution_count": 2,
   "metadata": {
    "collapsed": false,
    "deletable": true,
    "editable": true
   },
   "outputs": [],
   "source": [
    "data_file = 'p38-Bosutinib-AB_mcmc-2017-03-24 11:47.pickle'\n",
    "with open(r'%s'%data_file,'rb') as my_file:\n",
    "    data = cPickle.load(my_file)"
   ]
  },
  {
   "cell_type": "markdown",
   "metadata": {},
   "source": [
    "### Example of using AssaySimulator to draw possible fluorescence data"
   ]
  },
  {
   "cell_type": "code",
   "execution_count": 3,
   "metadata": {
    "collapsed": false
   },
   "outputs": [
    {
     "data": {
      "image/png": "[encoded data removed]",
      "text/plain": [
       "<matplotlib.figure.Figure at 0x11b2374d0>"
      ]
     },
     "metadata": {},
     "output_type": "display_data"
    }
   ],
   "source": [
    "L_total = 10 ** (np.linspace(-10, -5, num=12))\n",
    "P_total = 1E-6\n",
    "\n",
    "# Initialize the class\n",
    "assay = AssaySimulator(pymc_data=data, L_total=L_total, sample_index=6000, inner_filter=False)\n",
    "\n",
    "# Draw a possinle\n",
    "F = assay.simulate_fluorescence(DeltaG=-30)\n",
    "\n",
    "# Plot\n",
    "plt.semilogx(L_total, F)\n",
    "plt.xlabel('Ligand concetration', fontsize=14)\n",
    "plt.ylabel('Fl')\n",
    "plt.show()"
   ]
  },
  {
   "cell_type": "markdown",
   "metadata": {},
   "source": [
    "## Optimize the protein concentration to minimize variance"
   ]
  },
  {
   "cell_type": "code",
   "execution_count": 4,
   "metadata": {
    "collapsed": false,
    "deletable": true,
    "editable": true
   },
   "outputs": [],
   "source": [
    "DeltaG_samples = data['DeltaG'][0]\n",
    "(t_equil, g, N_eff) = timeseries.detectEquilibration(DeltaG_samples, fast=True, nskip=1)\n",
    "\n",
    "samples_indices = timeseries.subsampleCorrelatedData(DeltaG_samples[t_equil:],g)\n",
    "mean_DeltaG = np.mean(DeltaG_samples[t_equil:])"
   ]
  },
  {
   "cell_type": "code",
   "execution_count": null,
   "metadata": {
    "collapsed": false
   },
   "outputs": [
    {
     "name": "stderr",
     "output_type": "stream",
     "text": [
      "/Users/rossg/miniconda3/envs/py2/lib/python2.7/site-packages/scipy/optimize/optimize.py:964: RuntimeWarning: divide by zero encountered in double_scalars\n",
      "  rhok = 1.0 / (numpy.dot(yk, sk))\n"
     ]
    }
   ],
   "source": [
    "P_totals =10 ** (np.linspace(-10, -3, num=20))\n",
    "L_total = 10 ** (np.linspace(-10, -5, num=12))\n",
    "\n",
    "nposterior_samples = 100 \n",
    "rounds = 100\n",
    "\n",
    "CV = []\n",
    "for p in range(len(P_totals)):\n",
    "    estimates = []\n",
    "    for i in range(nposterior_samples):\n",
    "        ind = np.random.choice(samples_indices,1)[0]\n",
    "        simulator = AssaySimulator(pymc_data=data, L_total=L_total, sample_index=ind, inner_filter=True)\n",
    "        for j in range(rounds):\n",
    "            estimates.append(simulator.fit_deltaG())\n",
    "    estimates = np.array(estimates)\n",
    "    CV.append(np.std(estimates)/np.abs(mean_DeltaG))\n",
    "    "
   ]
  },
  {
   "cell_type": "code",
   "execution_count": null,
   "metadata": {
    "collapsed": false
   },
   "outputs": [],
   "source": [
    "plt.semilogx(P_totals,CV)\n",
    "plt.xlabel('Protein concentration', fontsize=14)\n",
    "plt.ylabel('Relative standard deviation', fontsize=14)\n",
    "plt.show()"
   ]
  },
  {
   "cell_type": "markdown",
   "metadata": {},
   "source": [
    "### Scrap used when developing AssaySimulator"
   ]
  },
  {
   "cell_type": "code",
   "execution_count": 20,
   "metadata": {
    "collapsed": false
   },
   "outputs": [],
   "source": [
    "#Fmodel_i = IF_i[:]*(F_PL*PL_i + F_L*L_i + F_P*P_i + F_buffer*path_length) + IF_i_plate*F_plate\n",
    "\n",
    "# Draw Kd\n",
    "# Predict free protein, free ligand and complex concentrations\n",
    "# Find the factors that map concentrations to fluorescence for each (at the same index of the draw)\n",
    "# Extract the buffer fluorescence and noise (Gaussian?)\n",
    "\n",
    "# Scan different protein concetrations and predict the variance (or coefficient of variation?)\n",
    "\n",
    "# Repeat!\n",
    "\n",
    "def simulate_fluorescence(L_total, P_total, data, ind, inner_filter=False, geometry='top', assay_volume=100E-6, well_area=0.3969):\n",
    "    \"\"\"\n",
    "    Predict the fluorescence of the complex using AssayTools posterior for a given protein concentration\n",
    "    and range of ligand concentrations.\n",
    "    \"\"\"\n",
    "    # Non-pymc paramters\n",
    "    path_length = assay_volume * 1000 / well_area\n",
    "    \n",
    "    # Unpack the pymc parameters for a given MCMC iteration index.\n",
    "    DeltaG = data['DeltaG'][0][ind]    \n",
    "    epsilon_em = data['epsilon_em'][0][ind]\n",
    "    epsilon_ex = data['epsilon_ex'][0][ind]\n",
    "    F_buffer = data['F_buffer'][0][ind]\n",
    "    F_plate = data['F_plate'][0][ind]\n",
    "    F_PL = data['F_PL'][0][ind]\n",
    "    F_L = data['F_L'][0][ind]\n",
    "    F_P = data['F_P'][0][ind]\n",
    "    \n",
    "    # Select the parameters for the noise based on where the fluorescence was taken\n",
    "    if geometry == 'top':\n",
    "        sigma = data['sigma_top'][0][ind]\n",
    "    else:\n",
    "        sigma = data['sigma_bottom'][0][ind]\n",
    "        \n",
    "    # Predict the concentrations of the complex, free protein and free ligand \n",
    "    [P_free, L_free, PL] = TwoComponentBindingModel.equilibrium_concentrations(DeltaG, P_total, L_total)\n",
    "    \n",
    "    # Predict fluorescence\n",
    "    if inner_filter:\n",
    "        IF_i = pymcmodels.inner_filter_effect_attenuation(epsilon_ex, epsilon_em, path_length, L_total, geometry)\n",
    "        IF_i_plate = np.exp(-epsilon_ex * path_length * L_total)\n",
    "        Fmodel = IF_i * (F_PL * PL + F_L * L_free + F_P * P_free + F_buffer * path_length) + IF_i_plate * F_plate\n",
    "        #Fmodel += np.random.lognormal(mean=0.0, sigma=log_sigma, size=len(L_total))\n",
    "        Fmodel += np.random.normal(loc=0.0, scale=sigma, size=len(L_total))\n",
    "    else:\n",
    "        #Fmodel = F_PL * PL + F_L * L_free + F_P * P_free + F_buffer * path_length\n",
    "        #Fmodel += np.random.normal(loc=0.0, scale=sigma, size=len(L_total))\n",
    "        Fmodel = F_PL * PL\n",
    "  \n",
    "    return Fmodel\n",
    "\n",
    "def fit_affinity(fluorescence, L_total, P_total, F_PL, F_L, F_P, ):\n",
    "    pass"
   ]
  },
  {
   "cell_type": "code",
   "execution_count": 21,
   "metadata": {
    "collapsed": false
   },
   "outputs": [
    {
     "data": {
      "image/png": "[encoded data removed]",
      "text/plain": [
       "<matplotlib.figure.Figure at 0x11e3c4fd0>"
      ]
     },
     "metadata": {},
     "output_type": "display_data"
    }
   ],
   "source": [
    "L_total = 10 ** (np.linspace(-10, -5, num=12))\n",
    "P_total = 1E-6\n",
    "F = simulate_fluorescence(L_total, P_total, data=data, ind=5000, inner_filter=True)\n",
    "\n",
    "plt.semilogx(L_total, F)\n",
    "plt.show()"
   ]
  },
  {
   "cell_type": "code",
   "execution_count": 83,
   "metadata": {
    "collapsed": false
   },
   "outputs": [],
   "source": [
    "np.random.normal?"
   ]
  },
  {
   "cell_type": "code",
   "execution_count": 70,
   "metadata": {
    "collapsed": false
   },
   "outputs": [],
   "source": [
    "log_sigma = data['log_sigma_top'][0][6000]"
   ]
  },
  {
   "cell_type": "code",
   "execution_count": 58,
   "metadata": {
    "collapsed": false
   },
   "outputs": [
    {
     "data": {
      "text/plain": [
       "9.4616644832502051e-07"
      ]
     },
     "execution_count": 58,
     "metadata": {},
     "output_type": "execute_result"
    }
   ],
   "source": [
    "data['precision_top'][0].mean()"
   ]
  },
  {
   "cell_type": "code",
   "execution_count": 53,
   "metadata": {
    "collapsed": false
   },
   "outputs": [
    {
     "data": {
      "text/plain": [
       "3.7362993798852602e-07"
      ]
     },
     "execution_count": 53,
     "metadata": {},
     "output_type": "execute_result"
    }
   ],
   "source": [
    "np.exp(-14.8)"
   ]
  },
  {
   "cell_type": "code",
   "execution_count": 61,
   "metadata": {
    "collapsed": false
   },
   "outputs": [
    {
     "data": {
      "text/plain": [
       "1103.7680422909621"
      ]
     },
     "execution_count": 61,
     "metadata": {},
     "output_type": "execute_result"
    }
   ],
   "source": [
    "data['sigma_top'][0].mean()"
   ]
  },
  {
   "cell_type": "code",
   "execution_count": 91,
   "metadata": {
    "collapsed": true
   },
   "outputs": [],
   "source": [
    "import pymc"
   ]
  },
  {
   "cell_type": "code",
   "execution_count": 105,
   "metadata": {
    "collapsed": true
   },
   "outputs": [],
   "source": [
    "\n",
    "pymc.Normal?"
   ]
  },
  {
   "cell_type": "code",
   "execution_count": null,
   "metadata": {
    "collapsed": true
   },
   "outputs": [],
   "source": []
  }
 ],
 "metadata": {
  "kernelspec": {
   "display_name": "Python 2",
   "language": "python",
   "name": "python2"
  },
  "language_info": {
   "codemirror_mode": {
    "name": "ipython",
    "version": 2
   },
   "file_extension": ".py",
   "mimetype": "text/x-python",
   "name": "python",
   "nbconvert_exporter": "python",
   "pygments_lexer": "ipython2",
   "version": "2.7.13"
  }
 },
 "nbformat": 4,
 "nbformat_minor": 2
}
